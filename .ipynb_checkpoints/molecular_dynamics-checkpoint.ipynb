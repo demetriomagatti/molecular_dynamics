{
 "cells": [
  {
   "cell_type": "code",
   "execution_count": 1,
   "id": "3a46bb9e",
   "metadata": {},
   "outputs": [],
   "source": [
    "import numpy as np\n",
    "import pandas as pd\n",
    "import matplotlib.pyplot as plt\n",
    "from tqdm.auto import tqdm\n",
    "import time\n",
    "from functions import basic\n",
    "from functions import interaction\n",
    "from functions import evolution\n",
    "%matplotlib inline"
   ]
  },
  {
   "cell_type": "code",
   "execution_count": 2,
   "id": "b3abc354",
   "metadata": {},
   "outputs": [
    {
     "data": {
      "application/javascript": [
       "require([\"codemirror/keymap/sublime\", \"notebook/js/cell\", \"base/js/namespace\"],\n",
       "    function(sublime_keymap, cell, IPython){\n",
       "        cell.Cell.options_default.cm_config.keyMap = 'sublime';\n",
       "        var cells = IPython.notebook.get_cells();\n",
       "        for(var cl=0; cl< cells.length ; cl++){\n",
       "            cells[cl].code_mirror.setOption('keyMap', 'sublime');\n",
       "        }\n",
       "    }\n",
       ");\n"
      ],
      "text/plain": [
       "<IPython.core.display.Javascript object>"
      ]
     },
     "metadata": {},
     "output_type": "display_data"
    }
   ],
   "source": [
    "%%javascript\n",
    "require([\"codemirror/keymap/sublime\", \"notebook/js/cell\", \"base/js/namespace\"],\n",
    "    function(sublime_keymap, cell, IPython){\n",
    "        cell.Cell.options_default.cm_config.keyMap = 'sublime';\n",
    "        var cells = IPython.notebook.get_cells();\n",
    "        for(var cl=0; cl< cells.length ; cl++){\n",
    "            cells[cl].code_mirror.setOption('keyMap', 'sublime');\n",
    "        }\n",
    "    }\n",
    ");"
   ]
  },
  {
   "cell_type": "code",
   "execution_count": 3,
   "id": "0b87676e",
   "metadata": {},
   "outputs": [],
   "source": [
    "# reading input file\n",
    "filename = \"fcc100a256.txt\"\n",
    "lattice = basic.read_file(filename)"
   ]
  },
  {
   "cell_type": "code",
   "execution_count": 4,
   "id": "a2563122",
   "metadata": {},
   "outputs": [
    {
     "name": "stdout",
     "output_type": "stream",
     "text": [
      "no PBC - 100 iterations; computing time: 0.55 seconds\n",
      "PBC - 100 iterations; computing time: 0.58 seconds\n"
     ]
    }
   ],
   "source": [
    "# computing ditances, finding neighbours\n",
    "\n",
    "# no PBC test\n",
    "start = time.process_time()\n",
    "for i in range(100):\n",
    "    mask,distances = basic.find_neighbours(*lattice)\n",
    "print(f'no PBC - 100 iterations; computing time: {time.process_time() - start :.2f} seconds')\n",
    "\n",
    "start = time.process_time()\n",
    "for i in range(100):\n",
    "    mask,distances = basic.find_neighbours(*lattice, PBC=True)\n",
    "print(f'PBC - 100 iterations; computing time: {time.process_time() - start :.2f} seconds')"
   ]
  },
  {
   "cell_type": "code",
   "execution_count": 6,
   "id": "da0902a2",
   "metadata": {},
   "outputs": [
    {
     "name": "stdout",
     "output_type": "stream",
     "text": [
      "approximate LJ - 100 iterations; computing time: 0.93 seconds\n",
      "true LJ - 100 iterations; computing time: 0.85 seconds\n",
      "\n",
      "approximate LJ: -453.45\n",
      "true LJ: -532.48\n"
     ]
    }
   ],
   "source": [
    "# calculating potential energy\n",
    "mask,distances = basic.find_neighbours(*lattice)\n",
    "\n",
    "# approximate LJ\n",
    "start = time.process_time()\n",
    "for i in range(100):\n",
    "    LJA = interaction.lennard_jones_approx(distances)\n",
    "print(f'approximate LJ - 100 iterations; computing time: {time.process_time() - start :.2f} seconds')\n",
    "\n",
    "# true LJ\n",
    "start = time.process_time()\n",
    "for i in range(100):\n",
    "    LJ = interaction.lennard_jones(distances)\n",
    "print(f'true LJ - 100 iterations; computing time: {time.process_time() - start :.2f} seconds')\n",
    "\n",
    "print('')\n",
    "print(f'approximate LJ: {LJA:.2f}')\n",
    "print(f'true LJ: {LJ:.2f}')"
   ]
  },
  {
   "cell_type": "code",
   "execution_count": 16,
   "id": "96614b73",
   "metadata": {},
   "outputs": [
    {
     "name": "stdout",
     "output_type": "stream",
     "text": [
      "approximate LJ - 100 iterations; computing time: 2.69 seconds\n",
      "true LJ - 100 iterations; computing time: 3.28 seconds\n",
      "\n",
      "approximate LJ, force on 0-th atom: 0.00,0.00,0.00\n",
      "true LJ, force on 0-th atom: 0.00,0.00,0.37\n"
     ]
    }
   ],
   "source": [
    "# calculating forces\n",
    "\n",
    "# approximate LJ\n",
    "start = time.process_time()\n",
    "for i in range(100):\n",
    "    FxA,FyA,FzA = interaction.calc_force_approx(*lattice,distances,PBC=True)\n",
    "print(f'approximate LJ - 100 iterations; computing time: {time.process_time() - start :.2f} seconds')\n",
    "\n",
    "# approximate LJ\n",
    "start = time.process_time()\n",
    "for i in range(100):\n",
    "    Fx,Fy,Fz = interaction.calc_force(*lattice,distances,PBC=True)\n",
    "print(f'true LJ - 100 iterations; computing time: {time.process_time() - start :.2f} seconds')\n",
    "\n",
    "print('')\n",
    "print(f'approximate LJ, force on 0-th atom: {FxA[1]:.2f},{FyA[1]:.2f},{FzA[1]:.2f}')\n",
    "print(f'true LJ, force on 0-th atom: {Fx[1]:.2f},{Fy[1]:.2f},{Fz[1]:.2f}')"
   ]
  },
  {
   "cell_type": "markdown",
   "id": "4ce33f02",
   "metadata": {},
   "source": [
    "### Test zone - used for quick tests and monkey patch"
   ]
  },
  {
   "cell_type": "code",
   "execution_count": 9,
   "id": "7257ce1c",
   "metadata": {},
   "outputs": [],
   "source": [
    "n_atoms,sx,sy,sz,x,y,z = lattice"
   ]
  },
  {
   "cell_type": "code",
   "execution_count": 10,
   "id": "b845721b",
   "metadata": {},
   "outputs": [
    {
     "data": {
      "image/png": "[encoded data removed]",
      "text/plain": [
       "<Figure size 432x288 with 1 Axes>"
      ]
     },
     "metadata": {
      "needs_background": "light"
     },
     "output_type": "display_data"
    }
   ],
   "source": [
    "for i in range(255):\n",
    "    plt.plot(x[i],Fx[i],'.')\n",
    "plt.grid()"
   ]
  },
  {
   "cell_type": "code",
   "execution_count": 15,
   "id": "420e0abc",
   "metadata": {},
   "outputs": [
    {
     "data": {
      "image/png": "[encoded data removed]",
      "text/plain": [
       "<Figure size 432x288 with 1 Axes>"
      ]
     },
     "metadata": {
      "needs_background": "light"
     },
     "output_type": "display_data"
    }
   ],
   "source": [
    "for i in range(255):\n",
    "    plt.plot(z[i],Fz[i],'.')\n",
    "plt.grid()"
   ]
  },
  {
   "cell_type": "code",
   "execution_count": 17,
   "id": "ae7fa6af",
   "metadata": {},
   "outputs": [
    {
     "data": {
      "image/png": "[encoded data removed]",
      "text/plain": [
       "<Figure size 432x288 with 1 Axes>"
      ]
     },
     "metadata": {
      "needs_background": "light"
     },
     "output_type": "display_data"
    }
   ],
   "source": [
    "for i in range(255):\n",
    "    plt.plot(x[i],FxA[i],'.')\n",
    "plt.grid()"
   ]
  },
  {
   "cell_type": "code",
   "execution_count": 18,
   "id": "983683b7",
   "metadata": {},
   "outputs": [
    {
     "data": {
      "image/png": "[encoded data removed]",
      "text/plain": [
       "<Figure size 432x288 with 1 Axes>"
      ]
     },
     "metadata": {
      "needs_background": "light"
     },
     "output_type": "display_data"
    }
   ],
   "source": [
    "for i in range(255):\n",
    "    plt.plot(z[i],FzA[i],'.')\n",
    "plt.grid()"
   ]
  },
  {
   "cell_type": "code",
   "execution_count": null,
   "id": "b232a571",
   "metadata": {},
   "outputs": [],
   "source": []
  },
  {
   "cell_type": "code",
   "execution_count": null,
   "id": "07da4e0e",
   "metadata": {},
   "outputs": [],
   "source": []
  },
  {
   "cell_type": "code",
   "execution_count": null,
   "id": "d2b6685a",
   "metadata": {},
   "outputs": [],
   "source": []
  },
  {
   "cell_type": "code",
   "execution_count": null,
   "id": "6614a7b5",
   "metadata": {},
   "outputs": [],
   "source": [
    "# constant values \n",
    "rc = 4.625\n",
    "rp = 4.375\n",
    "sigma = 2.644\n",
    "epsilon = 0.345\n",
    "kb = 1/11603\n",
    "Temp = 100\n",
    "m_ag = 108*1.66e-27/16"
   ]
  },
  {
   "cell_type": "code",
   "execution_count": null,
   "id": "d25c7c22",
   "metadata": {},
   "outputs": [],
   "source": [
    "n_atoms,sx,sy,sz,x,y,z = lattice\n",
    "\n",
    "coord_x =  np.column_stack((x,np.zeros(n_atoms),np.zeros(n_atoms)))\n",
    "coord_y =  np.column_stack((np.zeros(n_atoms),y,np.zeros(n_atoms)))\n",
    "coord_z =  np.column_stack((np.zeros(n_atoms),np.zeros(n_atoms),z))\n",
    "x_distances = np.sum(coord_x[:,None,:] - coord_x, axis=-1)\n",
    "y_distances = np.sum(coord_y[:,None,:] - coord_y, axis=-1)        \n",
    "z_distances = np.sum(coord_z[:,None,:] - coord_z, axis=-1)\n",
    "\n",
    "distances[np.where(distances==0)] = np.infty"
   ]
  },
  {
   "cell_type": "code",
   "execution_count": null,
   "id": "263b274b",
   "metadata": {},
   "outputs": [],
   "source": [
    "Fx = 24*epsilon*( 2*sigma**12*(distances)**(-14) - sigma**6*(distances)**(-8) )*(x_distances)"
   ]
  },
  {
   "cell_type": "code",
   "execution_count": null,
   "id": "1453ca1f",
   "metadata": {},
   "outputs": [],
   "source": [
    "mask_x_plus = x_distances>(0.5*sx)\n",
    "mask_y_plus = y_distances>(0.5*sy)\n",
    "mask_x_minus = x_distances<(-0.5*sx)\n",
    "mask_y_minus = y_distances<(-0.5*sy)\n",
    "x_distances = x_distances - sx*mask_x_plus + sx*mask_x_minus\n",
    "y_distances = y_distances - sy*mask_y_plus + sy*mask_y_minus\n",
    "\n",
    "Fx_pbc = 24*epsilon*( 2*sigma**12*(distances)**(-14) - sigma**6*(distances)**(-8) )*(x_distances)"
   ]
  },
  {
   "cell_type": "code",
   "execution_count": null,
   "id": "f737f1a1",
   "metadata": {},
   "outputs": [],
   "source": [
    "print(x[1])\n",
    "print()\n",
    "\n",
    "for i in range(255):   \n",
    "    print(x[i])\n",
    "    print(Fx[1][i])\n",
    "    print(Fx_pbc[1][i])\n",
    "    print()"
   ]
  },
  {
   "cell_type": "code",
   "execution_count": null,
   "id": "c2f6ca42",
   "metadata": {},
   "outputs": [],
   "source": [
    "Fx_tot = 0\n",
    "Fx_tot_pbc = 0\n",
    "\n",
    "for i in range(255):\n",
    "    Fx_tot = Fx_tot + Fx[1][i]\n",
    "    Fx_tot_pbc = Fx_tot_pbc + Fx_pbc[1][i]\n",
    "    \n",
    "Fx_tot, Fx_tot_pbc"
   ]
  },
  {
   "cell_type": "code",
   "execution_count": null,
   "id": "db5b45e8",
   "metadata": {},
   "outputs": [],
   "source": [
    "mask,distances = basic.find_neighbours(*lattice)\n",
    "\n",
    "n_atoms,sx,sy,sz,x,y,z = lattice\n",
    "\n",
    "coord_x =  np.column_stack((x,np.zeros(n_atoms),np.zeros(n_atoms)))\n",
    "coord_y =  np.column_stack((np.zeros(n_atoms),y,np.zeros(n_atoms)))\n",
    "coord_z =  np.column_stack((np.zeros(n_atoms),np.zeros(n_atoms),z))\n",
    "x_distances = np.sum(coord_x[:,None,:] - coord_x, axis=-1)\n",
    "y_distances = np.sum(coord_y[:,None,:] - coord_y, axis=-1)        \n",
    "z_distances = np.sum(coord_z[:,None,:] - coord_z, axis=-1)\n",
    "\n",
    "distances[np.where(distances==0)] = np.infty\n",
    "\n",
    "\n",
    "\n",
    "mask_x_plus = x_distances>(0.5*sx)\n",
    "mask_y_plus = y_distances>(0.5*sy)\n",
    "mask_x_minus = x_distances<(-0.5*sx)\n",
    "mask_y_minus = y_distances<(-0.5*sy)\n",
    "x_distances = x_distances - sx*mask_x_plus + sx*mask_x_minus\n",
    "y_distances = y_distances - sy*mask_y_plus + sy*mask_y_minus\n",
    "x_distances[np.where(np.abs(x_distances)==0.5*sx)] = 0\n",
    "\n",
    "Fx_pbc = 24*epsilon*( 2*sigma**12*(distances)**(-14) - sigma**6*(distances)**(-8) )*(x_distances)\n",
    "Fx_pbc = np.nansum(Fx_pbc,axis=1)\n",
    "\n",
    "Fy_pbc = 24*epsilon*( 2*sigma**12*(distances)**(-14) - sigma**6*(distances)**(-8) )*(y_distances)\n",
    "Fy_pbc = np.nansum(Fy_pbc,axis=1)\n",
    "\n",
    "Fz_pbc = 24*epsilon*( 2*sigma**12*(distances)**(-14) - sigma**6*(distances)**(-8) )*(z_distances)\n",
    "Fz_pbc = np.nansum(Fz_pbc,axis=1)"
   ]
  },
  {
   "cell_type": "code",
   "execution_count": null,
   "id": "6e57eb69",
   "metadata": {},
   "outputs": [],
   "source": [
    "for i in range(255):\n",
    "    plt.plot(x[i],Fx_pbc[i],'.')\n",
    "plt.grid()"
   ]
  },
  {
   "cell_type": "code",
   "execution_count": null,
   "id": "884f4083",
   "metadata": {},
   "outputs": [],
   "source": [
    "for i in range(255):\n",
    "    plt.plot(y[i],Fy_pbc[i],'.')\n",
    "plt.grid()"
   ]
  },
  {
   "cell_type": "code",
   "execution_count": null,
   "id": "e320d25d",
   "metadata": {
    "scrolled": true
   },
   "outputs": [],
   "source": [
    "for i in range(255):\n",
    "    plt.plot(z[i],Fz_pbc[i],'.')\n",
    "plt.grid()"
   ]
  },
  {
   "cell_type": "code",
   "execution_count": null,
   "id": "874a02fa",
   "metadata": {},
   "outputs": [],
   "source": []
  },
  {
   "cell_type": "code",
   "execution_count": null,
   "id": "3f8f39ed",
   "metadata": {},
   "outputs": [],
   "source": [
    "mask,distances = basic.find_neighbours(*lattice)\n",
    "\n",
    "n_atoms,sx,sy,sz,x,y,z = lattice\n",
    "\n",
    "coord_x =  np.column_stack((x,np.zeros(n_atoms),np.zeros(n_atoms)))\n",
    "coord_y =  np.column_stack((np.zeros(n_atoms),y,np.zeros(n_atoms)))\n",
    "coord_z =  np.column_stack((np.zeros(n_atoms),np.zeros(n_atoms),z))\n",
    "x_distances = np.sum(coord_x[:,None,:] - coord_x, axis=-1)\n",
    "y_distances = np.sum(coord_y[:,None,:] - coord_y, axis=-1)        \n",
    "z_distances = np.sum(coord_z[:,None,:] - coord_z, axis=-1)\n",
    "\n",
    "distances[np.where(distances==0)] = np.infty"
   ]
  },
  {
   "cell_type": "code",
   "execution_count": null,
   "id": "55c83d83",
   "metadata": {
    "scrolled": true
   },
   "outputs": [],
   "source": [
    "x_distances[0]"
   ]
  },
  {
   "cell_type": "code",
   "execution_count": null,
   "id": "e36b18be",
   "metadata": {},
   "outputs": [],
   "source": [
    "np.sum(x_distances[0])"
   ]
  },
  {
   "cell_type": "code",
   "execution_count": null,
   "id": "c4cccef7",
   "metadata": {},
   "outputs": [],
   "source": [
    "mask_x_plus = x_distances>(0.5*sx)\n",
    "mask_y_plus = y_distances>(0.5*sy)\n",
    "mask_x_minus = x_distances<(-0.5*sx)\n",
    "mask_y_minus = y_distances<(-0.5*sy)\n",
    "x_distances = x_distances - sx*mask_x_plus + sx*mask_x_minus\n",
    "y_distances = y_distances - sy*mask_y_plus + sy*mask_y_minus\n",
    "x_distances[np.where(np.abs(x_distances)==0.5*sx)] = 0"
   ]
  },
  {
   "cell_type": "code",
   "execution_count": null,
   "id": "07f28a50",
   "metadata": {
    "scrolled": true
   },
   "outputs": [],
   "source": [
    "x_distances[0]"
   ]
  },
  {
   "cell_type": "code",
   "execution_count": null,
   "id": "5e754ab4",
   "metadata": {},
   "outputs": [],
   "source": [
    "np.sum(x_distances[0])"
   ]
  },
  {
   "cell_type": "code",
   "execution_count": null,
   "id": "6a8981fa",
   "metadata": {},
   "outputs": [],
   "source": []
  }
 ],
 "metadata": {
  "kernelspec": {
   "display_name": "Python 3",
   "language": "python",
   "name": "python3"
  },
  "language_info": {
   "codemirror_mode": {
    "name": "ipython",
    "version": 3
   },
   "file_extension": ".py",
   "mimetype": "text/x-python",
   "name": "python",
   "nbconvert_exporter": "python",
   "pygments_lexer": "ipython3",
   "version": "3.8.8"
  }
 },
 "nbformat": 4,
 "nbformat_minor": 5
}

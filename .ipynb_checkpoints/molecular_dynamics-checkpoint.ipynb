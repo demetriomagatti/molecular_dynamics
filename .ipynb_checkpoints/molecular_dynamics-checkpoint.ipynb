{
 "cells": [
  {
   "cell_type": "code",
   "execution_count": 1,
   "id": "3a46bb9e",
   "metadata": {},
   "outputs": [],
   "source": [
    "import numpy as np\n",
    "import pandas as pd\n",
    "import matplotlib.pyplot as plt\n",
    "from tqdm.auto import tqdm\n",
    "import time\n",
    "from functions import basic\n",
    "from functions import interaction\n",
    "from functions import evolution\n",
    "%matplotlib inline"
   ]
  },
  {
   "cell_type": "code",
   "execution_count": 2,
   "id": "b3abc354",
   "metadata": {},
   "outputs": [
    {
     "data": {
      "application/javascript": [
       "require([\"codemirror/keymap/sublime\", \"notebook/js/cell\", \"base/js/namespace\"],\n",
       "    function(sublime_keymap, cell, IPython){\n",
       "        cell.Cell.options_default.cm_config.keyMap = 'sublime';\n",
       "        var cells = IPython.notebook.get_cells();\n",
       "        for(var cl=0; cl< cells.length ; cl++){\n",
       "            cells[cl].code_mirror.setOption('keyMap', 'sublime');\n",
       "        }\n",
       "    }\n",
       ");\n"
      ],
      "text/plain": [
       "<IPython.core.display.Javascript object>"
      ]
     },
     "metadata": {},
     "output_type": "display_data"
    }
   ],
   "source": [
    "%%javascript\n",
    "require([\"codemirror/keymap/sublime\", \"notebook/js/cell\", \"base/js/namespace\"],\n",
    "    function(sublime_keymap, cell, IPython){\n",
    "        cell.Cell.options_default.cm_config.keyMap = 'sublime';\n",
    "        var cells = IPython.notebook.get_cells();\n",
    "        for(var cl=0; cl< cells.length ; cl++){\n",
    "            cells[cl].code_mirror.setOption('keyMap', 'sublime');\n",
    "        }\n",
    "    }\n",
    ");"
   ]
  },
  {
   "cell_type": "code",
   "execution_count": 3,
   "id": "0b87676e",
   "metadata": {},
   "outputs": [],
   "source": [
    "# reading input file\n",
    "filename = \"fcc100a256.txt\"\n",
    "lattice = basic.read_file(filename)"
   ]
  },
  {
   "cell_type": "code",
   "execution_count": 4,
   "id": "a2563122",
   "metadata": {},
   "outputs": [
    {
     "name": "stdout",
     "output_type": "stream",
     "text": [
      "no PBC - 100 iterations; computing time: 0.57 seconds\n",
      "PBC - 100 iterations; computing time: 0.60 seconds\n"
     ]
    }
   ],
   "source": [
    "# computing ditances, finding neighbours\n",
    "\n",
    "# no PBC test\n",
    "start = time.process_time()\n",
    "for i in range(100):\n",
    "    mask,distances = basic.find_neighbours(*lattice)\n",
    "print(f'no PBC - 100 iterations; computing time: {time.process_time() - start :.2f} seconds')\n",
    "\n",
    "start = time.process_time()\n",
    "for i in range(100):\n",
    "    mask,distances = basic.find_neighbours(*lattice, PBC=True)\n",
    "print(f'PBC - 100 iterations; computing time: {time.process_time() - start :.2f} seconds')"
   ]
  },
  {
   "cell_type": "code",
   "execution_count": 6,
   "id": "da0902a2",
   "metadata": {},
   "outputs": [
    {
     "name": "stdout",
     "output_type": "stream",
     "text": [
      "approximate LJ - 100 iterations; computing time: 0.79 seconds\n",
      "true LJ - 100 iterations; computing time: 0.85 seconds\n",
      "\n",
      "approximate LJ: -453.45\n",
      "true LJ: -532.48\n"
     ]
    }
   ],
   "source": [
    "# calculating potential energy\n",
    "mask,distances = basic.find_neighbours(*lattice)\n",
    "\n",
    "# approximate LJ\n",
    "start = time.process_time()\n",
    "for i in range(100):\n",
    "    LJA = interaction.lennard_jones_approx(distances)\n",
    "print(f'approximate LJ - 100 iterations; computing time: {time.process_time() - start :.2f} seconds')\n",
    "\n",
    "# true LJ\n",
    "start = time.process_time()\n",
    "for i in range(100):\n",
    "    LJ = interaction.lennard_jones(distances)\n",
    "print(f'true LJ - 100 iterations; computing time: {time.process_time() - start :.2f} seconds')\n",
    "\n",
    "print('')\n",
    "print(f'approximate LJ: {LJA:.2f}')\n",
    "print(f'true LJ: {LJ:.2f}')"
   ]
  },
  {
   "cell_type": "code",
   "execution_count": 8,
   "id": "96614b73",
   "metadata": {},
   "outputs": [
    {
     "name": "stdout",
     "output_type": "stream",
     "text": [
      "approximate LJ - 100 iterations; computing time: 2.72 seconds\n",
      "true LJ - 100 iterations; computing time: 3.03 seconds\n",
      "\n",
      "approximate LJ, force on 0-th atom: 0.00,0.00,0.00\n",
      "true LJ, force on 0-th atom: 0.00,0.00,0.37\n"
     ]
    }
   ],
   "source": [
    "# calculating forces\n",
    "\n",
    "# approximate LJ\n",
    "start = time.process_time()\n",
    "for i in range(100):\n",
    "    FxA,FyA,FzA = interaction.calc_force_approx(*lattice,distances,PBC=True)\n",
    "print(f'approximate LJ - 100 iterations; computing time: {time.process_time() - start :.2f} seconds')\n",
    "\n",
    "# approximate LJ\n",
    "start = time.process_time()\n",
    "for i in range(100):\n",
    "    Fx,Fy,Fz = interaction.calc_force(*lattice,distances,PBC=True)\n",
    "print(f'true LJ - 100 iterations; computing time: {time.process_time() - start :.2f} seconds')\n",
    "\n",
    "print('')\n",
    "print(f'approximate LJ, force on 0-th atom: {FxA[1]:.2f},{FyA[1]:.2f},{FzA[1]:.2f}')\n",
    "print(f'true LJ, force on 0-th atom: {Fx[1]:.2f},{Fy[1]:.2f},{Fz[1]:.2f}')"
   ]
  },
  {
   "cell_type": "code",
   "execution_count": 9,
   "id": "69d44430",
   "metadata": {
    "scrolled": true
   },
   "outputs": [
    {
     "name": "stdout",
     "output_type": "stream",
     "text": [
      "2.0802 2.0802 0.0\n",
      "ALJ, force on 0-th atom: [0.114,0.114,-0.113]\n",
      "TLJ, force on 0-th atom: [0.000,0.000,0.369]\n",
      "\n",
      "0.0 0.0 0.0\n",
      "ALJ, force on 1-th atom: [0.000,0.000,0.000]\n",
      "TLJ, force on 1-th atom: [0.000,0.000,0.369]\n",
      "\n",
      "0.0 4.1604 0.0\n",
      "ALJ, force on 2-th atom: [-0.056,-0.000,-0.056]\n",
      "TLJ, force on 2-th atom: [0.000,0.006,0.222]\n",
      "\n",
      "2.0802 6.2406 0.0\n",
      "ALJ, force on 3-th atom: [0.114,0.000,-0.113]\n",
      "TLJ, force on 3-th atom: [-0.000,-0.006,0.222]\n",
      "\n",
      "0.0 8.3208 0.0\n",
      "ALJ, force on 4-th atom: [-0.056,-0.000,-0.056]\n",
      "TLJ, force on 4-th atom: [0.000,-0.000,0.369]\n",
      "\n",
      "2.0802 10.401 0.0\n",
      "ALJ, force on 5-th atom: [0.114,-0.000,-0.113]\n",
      "TLJ, force on 5-th atom: [-0.000,-0.000,0.369]\n",
      "\n",
      "0.0 12.4812 0.0\n",
      "ALJ, force on 6-th atom: [-0.056,-0.114,-0.056]\n",
      "TLJ, force on 6-th atom: [0.000,-0.006,0.222]\n",
      "\n",
      "2.0802 14.5614 0.0\n",
      "ALJ, force on 7-th atom: [0.114,0.056,-0.056]\n",
      "TLJ, force on 7-th atom: [-0.000,0.006,0.222]\n",
      "\n",
      "4.1604 0.0 0.0\n",
      "ALJ, force on 8-th atom: [-0.000,-0.056,-0.056]\n",
      "TLJ, force on 8-th atom: [0.006,0.000,0.222]\n",
      "\n",
      "6.2406 2.0802 0.0\n",
      "ALJ, force on 9-th atom: [0.000,0.114,-0.113]\n",
      "TLJ, force on 9-th atom: [-0.006,-0.000,0.222]\n",
      "\n"
     ]
    }
   ],
   "source": [
    "for i in range(10):\n",
    "    print(lattice[4][i],lattice[5][i],lattice[6][i])\n",
    "    print(f'ALJ, force on {i}-th atom: [{FxA[i]:.3f},{FyA[i]:.3f},{FzA[i]:.3f}]')\n",
    "    print(f'TLJ, force on {i}-th atom: [{Fx[i]:.3f},{Fy[i]:.3f},{Fz[i]:.3f}]\\n')"
   ]
  },
  {
   "cell_type": "markdown",
   "id": "4ce33f02",
   "metadata": {},
   "source": [
    "### Test zone - used for quick tests and monkey patch"
   ]
  },
  {
   "cell_type": "code",
   "execution_count": 11,
   "id": "8b446c28",
   "metadata": {},
   "outputs": [],
   "source": [
    "n_atoms,sx,sy,sz,x,y,z = lattice"
   ]
  },
  {
   "cell_type": "code",
   "execution_count": 14,
   "id": "a3d72f27",
   "metadata": {},
   "outputs": [
    {
     "data": {
      "image/png": "[encoded data removed]",
      "text/plain": [
       "<Figure size 432x288 with 1 Axes>"
      ]
     },
     "metadata": {
      "needs_background": "light"
     },
     "output_type": "display_data"
    }
   ],
   "source": [
    "for i in range(255):\n",
    "    plt.plot(x[i],Fx[i],'.')\n",
    "plt.grid()"
   ]
  },
  {
   "cell_type": "code",
   "execution_count": null,
   "id": "4216cf58",
   "metadata": {},
   "outputs": [],
   "source": [
    "for i in range(255):\n",
    "    plt.plot(x[i],Fx[i],'.')\n",
    "plt.grid()"
   ]
  },
  {
   "cell_type": "code",
   "execution_count": null,
   "id": "0960849b",
   "metadata": {},
   "outputs": [],
   "source": []
  },
  {
   "cell_type": "code",
   "execution_count": null,
   "id": "96144b3a",
   "metadata": {},
   "outputs": [],
   "source": []
  },
  {
   "cell_type": "code",
   "execution_count": null,
   "id": "b2b6466f",
   "metadata": {},
   "outputs": [],
   "source": []
  },
  {
   "cell_type": "code",
   "execution_count": null,
   "id": "3ac60ef0",
   "metadata": {},
   "outputs": [],
   "source": []
  },
  {
   "cell_type": "code",
   "execution_count": null,
   "id": "d75e5058",
   "metadata": {},
   "outputs": [],
   "source": []
  },
  {
   "cell_type": "code",
   "execution_count": null,
   "id": "3c146e31",
   "metadata": {},
   "outputs": [],
   "source": [
    "# constant values \n",
    "rc = 4.625\n",
    "rp = 4.375\n",
    "sigma = 2.644\n",
    "epsilon = 0.345\n",
    "kb = 1/11603\n",
    "Temp = 100\n",
    "m_ag = 108*1.66e-27/16"
   ]
  },
  {
   "cell_type": "code",
   "execution_count": null,
   "id": "ad03a0b2",
   "metadata": {},
   "outputs": [],
   "source": [
    "n_atoms,sx,sy,sz,x,y,z = lattice\n",
    "\n",
    "coord_x =  np.column_stack((x,np.zeros(n_atoms),np.zeros(n_atoms)))\n",
    "coord_y =  np.column_stack((np.zeros(n_atoms),y,np.zeros(n_atoms)))\n",
    "coord_z =  np.column_stack((np.zeros(n_atoms),np.zeros(n_atoms),z))\n",
    "x_distances = np.sum(coord_x[:,None,:] - coord_x, axis=-1)\n",
    "y_distances = np.sum(coord_y[:,None,:] - coord_y, axis=-1)        \n",
    "z_distances = np.sum(coord_z[:,None,:] - coord_z, axis=-1)\n",
    "\n",
    "distances[np.where(distances==0)] = np.infty"
   ]
  },
  {
   "cell_type": "code",
   "execution_count": null,
   "id": "19b98603",
   "metadata": {},
   "outputs": [],
   "source": [
    "Fx = 24*epsilon*( 2*sigma**12*(distances)**(-14) - sigma**6*(distances)**(-8) )*(x_distances)"
   ]
  },
  {
   "cell_type": "code",
   "execution_count": null,
   "id": "c1493eb4",
   "metadata": {},
   "outputs": [],
   "source": [
    "mask_x_plus = x_distances>(0.5*sx)\n",
    "mask_y_plus = y_distances>(0.5*sy)\n",
    "mask_x_minus = x_distances<(-0.5*sx)\n",
    "mask_y_minus = y_distances<(-0.5*sy)\n",
    "x_distances = x_distances - sx*mask_x_plus + sx*mask_x_minus\n",
    "y_distances = y_distances - sy*mask_y_plus + sy*mask_y_minus\n",
    "\n",
    "Fx_pbc = 24*epsilon*( 2*sigma**12*(distances)**(-14) - sigma**6*(distances)**(-8) )*(x_distances)"
   ]
  },
  {
   "cell_type": "code",
   "execution_count": null,
   "id": "0e6b415f",
   "metadata": {},
   "outputs": [],
   "source": [
    "print(x[1])\n",
    "print()\n",
    "\n",
    "for i in range(255):   \n",
    "    print(x[i])\n",
    "    print(Fx[1][i])\n",
    "    print(Fx_pbc[1][i])\n",
    "    print()"
   ]
  },
  {
   "cell_type": "code",
   "execution_count": null,
   "id": "20cd08c4",
   "metadata": {},
   "outputs": [],
   "source": [
    "Fx_tot = 0\n",
    "Fx_tot_pbc = 0\n",
    "\n",
    "for i in range(255):\n",
    "    Fx_tot = Fx_tot + Fx[1][i]\n",
    "    Fx_tot_pbc = Fx_tot_pbc + Fx_pbc[1][i]\n",
    "    \n",
    "Fx_tot, Fx_tot_pbc"
   ]
  },
  {
   "cell_type": "code",
   "execution_count": null,
   "id": "84e68e79",
   "metadata": {},
   "outputs": [],
   "source": [
    "mask,distances = basic.find_neighbours(*lattice)\n",
    "\n",
    "n_atoms,sx,sy,sz,x,y,z = lattice\n",
    "\n",
    "coord_x =  np.column_stack((x,np.zeros(n_atoms),np.zeros(n_atoms)))\n",
    "coord_y =  np.column_stack((np.zeros(n_atoms),y,np.zeros(n_atoms)))\n",
    "coord_z =  np.column_stack((np.zeros(n_atoms),np.zeros(n_atoms),z))\n",
    "x_distances = np.sum(coord_x[:,None,:] - coord_x, axis=-1)\n",
    "y_distances = np.sum(coord_y[:,None,:] - coord_y, axis=-1)        \n",
    "z_distances = np.sum(coord_z[:,None,:] - coord_z, axis=-1)\n",
    "\n",
    "distances[np.where(distances==0)] = np.infty\n",
    "\n",
    "\n",
    "\n",
    "mask_x_plus = x_distances>(0.5*sx)\n",
    "mask_y_plus = y_distances>(0.5*sy)\n",
    "mask_x_minus = x_distances<(-0.5*sx)\n",
    "mask_y_minus = y_distances<(-0.5*sy)\n",
    "x_distances = x_distances - sx*mask_x_plus + sx*mask_x_minus\n",
    "y_distances = y_distances - sy*mask_y_plus + sy*mask_y_minus\n",
    "x_distances[np.where(np.abs(x_distances)==0.5*sx)] = 0\n",
    "\n",
    "Fx_pbc = 24*epsilon*( 2*sigma**12*(distances)**(-14) - sigma**6*(distances)**(-8) )*(x_distances)\n",
    "Fx_pbc = np.nansum(Fx_pbc,axis=1)\n",
    "\n",
    "Fy_pbc = 24*epsilon*( 2*sigma**12*(distances)**(-14) - sigma**6*(distances)**(-8) )*(y_distances)\n",
    "Fy_pbc = np.nansum(Fy_pbc,axis=1)\n",
    "\n",
    "Fz_pbc = 24*epsilon*( 2*sigma**12*(distances)**(-14) - sigma**6*(distances)**(-8) )*(z_distances)\n",
    "Fz_pbc = np.nansum(Fz_pbc,axis=1)"
   ]
  },
  {
   "cell_type": "code",
   "execution_count": null,
   "id": "99c5cc92",
   "metadata": {},
   "outputs": [],
   "source": [
    "for i in range(255):\n",
    "    plt.plot(x[i],Fx_pbc[i],'.')\n",
    "plt.grid()"
   ]
  },
  {
   "cell_type": "code",
   "execution_count": null,
   "id": "352a2dc7",
   "metadata": {},
   "outputs": [],
   "source": [
    "for i in range(255):\n",
    "    plt.plot(y[i],Fy_pbc[i],'.')\n",
    "plt.grid()"
   ]
  },
  {
   "cell_type": "code",
   "execution_count": null,
   "id": "f3093025",
   "metadata": {
    "scrolled": true
   },
   "outputs": [],
   "source": [
    "for i in range(255):\n",
    "    plt.plot(z[i],Fz_pbc[i],'.')\n",
    "plt.grid()"
   ]
  },
  {
   "cell_type": "code",
   "execution_count": null,
   "id": "6c830e0c",
   "metadata": {},
   "outputs": [],
   "source": []
  },
  {
   "cell_type": "code",
   "execution_count": null,
   "id": "2e92c0db",
   "metadata": {},
   "outputs": [],
   "source": [
    "mask,distances = basic.find_neighbours(*lattice)\n",
    "\n",
    "n_atoms,sx,sy,sz,x,y,z = lattice\n",
    "\n",
    "coord_x =  np.column_stack((x,np.zeros(n_atoms),np.zeros(n_atoms)))\n",
    "coord_y =  np.column_stack((np.zeros(n_atoms),y,np.zeros(n_atoms)))\n",
    "coord_z =  np.column_stack((np.zeros(n_atoms),np.zeros(n_atoms),z))\n",
    "x_distances = np.sum(coord_x[:,None,:] - coord_x, axis=-1)\n",
    "y_distances = np.sum(coord_y[:,None,:] - coord_y, axis=-1)        \n",
    "z_distances = np.sum(coord_z[:,None,:] - coord_z, axis=-1)\n",
    "\n",
    "distances[np.where(distances==0)] = np.infty"
   ]
  },
  {
   "cell_type": "code",
   "execution_count": null,
   "id": "10399d9e",
   "metadata": {
    "scrolled": true
   },
   "outputs": [],
   "source": [
    "x_distances[0]"
   ]
  },
  {
   "cell_type": "code",
   "execution_count": null,
   "id": "feb1822d",
   "metadata": {},
   "outputs": [],
   "source": [
    "np.sum(x_distances[0])"
   ]
  },
  {
   "cell_type": "code",
   "execution_count": null,
   "id": "9512dfef",
   "metadata": {},
   "outputs": [],
   "source": [
    "mask_x_plus = x_distances>(0.5*sx)\n",
    "mask_y_plus = y_distances>(0.5*sy)\n",
    "mask_x_minus = x_distances<(-0.5*sx)\n",
    "mask_y_minus = y_distances<(-0.5*sy)\n",
    "x_distances = x_distances - sx*mask_x_plus + sx*mask_x_minus\n",
    "y_distances = y_distances - sy*mask_y_plus + sy*mask_y_minus\n",
    "x_distances[np.where(np.abs(x_distances)==0.5*sx)] = 0"
   ]
  },
  {
   "cell_type": "code",
   "execution_count": null,
   "id": "6279424e",
   "metadata": {
    "scrolled": true
   },
   "outputs": [],
   "source": [
    "x_distances[0]"
   ]
  },
  {
   "cell_type": "code",
   "execution_count": null,
   "id": "76e0b125",
   "metadata": {},
   "outputs": [],
   "source": [
    "np.sum(x_distances[0])"
   ]
  },
  {
   "cell_type": "code",
   "execution_count": null,
   "id": "f6830391",
   "metadata": {},
   "outputs": [],
   "source": []
  }
 ],
 "metadata": {
  "kernelspec": {
   "display_name": "Python 3",
   "language": "python",
   "name": "python3"
  },
  "language_info": {
   "codemirror_mode": {
    "name": "ipython",
    "version": 3
   },
   "file_extension": ".py",
   "mimetype": "text/x-python",
   "name": "python",
   "nbconvert_exporter": "python",
   "pygments_lexer": "ipython3",
   "version": "3.8.8"
  }
 },
 "nbformat": 4,
 "nbformat_minor": 5
}

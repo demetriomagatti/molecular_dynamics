{
 "cells": [
  {
   "cell_type": "code",
   "execution_count": 1,
   "id": "3a46bb9e",
   "metadata": {},
   "outputs": [],
   "source": [
    "import numpy as np\n",
    "import pandas as pd\n",
    "import matplotlib.pyplot as plt\n",
    "from tqdm.auto import tqdm\n",
    "import time\n",
    "from functions import basic\n",
    "from functions import interaction\n",
    "from functions import evolution\n",
    "%matplotlib inline"
   ]
  },
  {
   "cell_type": "code",
   "execution_count": 2,
   "id": "b3abc354",
   "metadata": {},
   "outputs": [
    {
     "data": {
      "application/javascript": [
       "require([\"codemirror/keymap/sublime\", \"notebook/js/cell\", \"base/js/namespace\"],\n",
       "    function(sublime_keymap, cell, IPython){\n",
       "        cell.Cell.options_default.cm_config.keyMap = 'sublime';\n",
       "        var cells = IPython.notebook.get_cells();\n",
       "        for(var cl=0; cl< cells.length ; cl++){\n",
       "            cells[cl].code_mirror.setOption('keyMap', 'sublime');\n",
       "        }\n",
       "    }\n",
       ");\n"
      ],
      "text/plain": [
       "<IPython.core.display.Javascript object>"
      ]
     },
     "metadata": {},
     "output_type": "display_data"
    }
   ],
   "source": [
    "%%javascript\n",
    "require([\"codemirror/keymap/sublime\", \"notebook/js/cell\", \"base/js/namespace\"],\n",
    "    function(sublime_keymap, cell, IPython){\n",
    "        cell.Cell.options_default.cm_config.keyMap = 'sublime';\n",
    "        var cells = IPython.notebook.get_cells();\n",
    "        for(var cl=0; cl< cells.length ; cl++){\n",
    "            cells[cl].code_mirror.setOption('keyMap', 'sublime');\n",
    "        }\n",
    "    }\n",
    ");"
   ]
  },
  {
   "cell_type": "code",
   "execution_count": 3,
   "id": "0b87676e",
   "metadata": {},
   "outputs": [],
   "source": [
    "# reading input file\n",
    "filename = \"fcc100a256.txt\"\n",
    "lattice = basic.read_file(filename)"
   ]
  },
  {
   "cell_type": "code",
   "execution_count": 4,
   "id": "a2563122",
   "metadata": {},
   "outputs": [
    {
     "name": "stdout",
     "output_type": "stream",
     "text": [
      "no PBC - 100 iterations; computing time: 0.53 seconds\n",
      "PBC - 100 iterations; computing time: 0.57 seconds\n"
     ]
    }
   ],
   "source": [
    "# computing ditances, finding neighbours\n",
    "\n",
    "# no PBC test\n",
    "start = time.process_time()\n",
    "for i in range(100):\n",
    "    mask,distances = basic.find_neighbours(*lattice)\n",
    "print(f'no PBC - 100 iterations; computing time: {time.process_time() - start :.2f} seconds')\n",
    "\n",
    "start = time.process_time()\n",
    "for i in range(100):\n",
    "    mask,distances = basic.find_neighbours(*lattice, PBC=True)\n",
    "print(f'PBC - 100 iterations; computing time: {time.process_time() - start :.2f} seconds')"
   ]
  },
  {
   "cell_type": "code",
   "execution_count": 6,
   "id": "da0902a2",
   "metadata": {},
   "outputs": [
    {
     "name": "stdout",
     "output_type": "stream",
     "text": [
      "approximate LJ - 100 iterations; computing time: 0.72 seconds\n",
      "true LJ - 100 iterations; computing time: 0.90 seconds\n",
      "\n",
      "approximate LJ: -453.45\n",
      "true LJ: -532.48\n"
     ]
    }
   ],
   "source": [
    "# calculating potential energy\n",
    "mask,distances = basic.find_neighbours(*lattice)\n",
    "\n",
    "# approximate LJ\n",
    "start = time.process_time()\n",
    "for i in range(100):\n",
    "    LJA = interaction.lennard_jones_approx(distances)\n",
    "print(f'approximate LJ - 100 iterations; computing time: {time.process_time() - start :.2f} seconds')\n",
    "\n",
    "# true LJ\n",
    "start = time.process_time()\n",
    "for i in range(100):\n",
    "    LJ = interaction.lennard_jones(distances)\n",
    "print(f'true LJ - 100 iterations; computing time: {time.process_time() - start :.2f} seconds')\n",
    "\n",
    "print('')\n",
    "print(f'approximate LJ: {LJA:.2f}')\n",
    "print(f'true LJ: {LJ:.2f}')"
   ]
  },
  {
   "cell_type": "code",
   "execution_count": 8,
   "id": "96614b73",
   "metadata": {},
   "outputs": [
    {
     "name": "stdout",
     "output_type": "stream",
     "text": [
      "approximate LJ - 100 iterations; computing time: 2.65 seconds\n",
      "true LJ - 100 iterations; computing time: 3.02 seconds\n",
      "\n",
      "approximate LJ, force on 0-th atom: 0.00,0.00,-0.11\n",
      "true LJ, force on 0-th atom: 0.00,0.00,0.37\n"
     ]
    }
   ],
   "source": [
    "# calculating forces\n",
    "\n",
    "# approximate LJ\n",
    "start = time.process_time()\n",
    "for i in range(100):\n",
    "    FxA,FyA,FzA = interaction.calc_force_approx(*lattice,distances,PBC=True)\n",
    "print(f'approximate LJ - 100 iterations; computing time: {time.process_time() - start :.2f} seconds')\n",
    "\n",
    "# approximate LJ\n",
    "start = time.process_time()\n",
    "for i in range(100):\n",
    "    Fx,Fy,Fz = interaction.calc_force(*lattice,distances,PBC=True)\n",
    "print(f'true LJ - 100 iterations; computing time: {time.process_time() - start :.2f} seconds')\n",
    "\n",
    "print('')\n",
    "print(f'approximate LJ, force on 0-th atom: {FxA[1]:.2f},{FyA[1]:.2f},{FzA[1]:.2f}')\n",
    "print(f'true LJ, force on 0-th atom: {Fx[1]:.2f},{Fy[1]:.2f},{Fz[1]:.2f}')"
   ]
  },
  {
   "cell_type": "code",
   "execution_count": 9,
   "id": "230f0eac",
   "metadata": {},
   "outputs": [
    {
     "data": {
      "image/png": "[encoded data removed]",
      "text/plain": [
       "<Figure size 864x288 with 3 Axes>"
      ]
     },
     "metadata": {
      "needs_background": "light"
     },
     "output_type": "display_data"
    }
   ],
   "source": [
    "n_atoms,sx,sy,sz,x,y,z = lattice\n",
    "\n",
    "fig,axs = plt.subplots(1,3,sharey=True,figsize=(12,4))\n",
    "\n",
    "for i in range(255):\n",
    "    axs[0].plot(x[i],FxA[i],'.')\n",
    "    axs[1].plot(y[i],FyA[i],'.')\n",
    "    axs[2].plot(z[i],FzA[i],'.')\n",
    "\n",
    "for i in range(3):\n",
    "    axs[i].grid()\n",
    "\n",
    "axs[0].set_xlabel('x')\n",
    "axs[0].set_ylabel('Fx')\n",
    "axs[1].set_xlabel('y')\n",
    "axs[1].set_ylabel('Fy')\n",
    "axs[2].set_xlabel('z')\n",
    "axs[2].set_ylabel('Fz')\n",
    "\n",
    "fig.suptitle('Force components - perfect lattice - approximate LJ - PBC')\n",
    "plt.show()"
   ]
  },
  {
   "cell_type": "code",
   "execution_count": 10,
   "id": "7179ce0b",
   "metadata": {},
   "outputs": [
    {
     "data": {
      "image/png": "[encoded data removed]",
      "text/plain": [
       "<Figure size 864x288 with 3 Axes>"
      ]
     },
     "metadata": {
      "needs_background": "light"
     },
     "output_type": "display_data"
    }
   ],
   "source": [
    "fig,axs = plt.subplots(1,3,sharey=True,figsize=(12,4))\n",
    "\n",
    "for i in range(255):\n",
    "    axs[0].plot(x[i],Fx[i],'.')\n",
    "    axs[1].plot(y[i],Fy[i],'.')\n",
    "    axs[2].plot(z[i],Fz[i],'.')\n",
    "\n",
    "for i in range(3):\n",
    "    axs[i].grid()\n",
    "\n",
    "axs[0].set_xlabel('x')\n",
    "axs[0].set_ylabel('Fx')\n",
    "axs[1].set_xlabel('y')\n",
    "axs[1].set_ylabel('Fy')\n",
    "axs[2].set_xlabel('z')\n",
    "axs[2].set_ylabel('Fz')\n",
    "\n",
    "fig.suptitle('Force components - perfect lattice - true LJ - PBC')\n",
    "plt.show()"
   ]
  },
  {
   "cell_type": "code",
   "execution_count": 11,
   "id": "c4d612d3",
   "metadata": {},
   "outputs": [
    {
     "name": "stdout",
     "output_type": "stream",
     "text": [
      "speed initialization; computing time: 0.009 seconds\n",
      "\n",
      "translation removal check:\n",
      "    mean vx: -2.6702880859375e-05\n",
      "    mean vy: 7.43865966796875e-05\n",
      "    mean vz: 5.53131103515625e-05\n",
      "\n",
      "Set temperature: 100.00K; real temperature: 100.00K\n"
     ]
    }
   ],
   "source": [
    "# initializing speed\n",
    "m_ag = 108*1.66e-27/16\n",
    "kb = 1/11603\n",
    "T = 100\n",
    "\n",
    "start = time.process_time()\n",
    "vx,vy,vz = basic.initialize_speed(n_atoms,x,y,z,T,remove_translation=True)\n",
    "print(f'speed initialization; computing time: {time.process_time() - start :.3f} seconds\\n')\n",
    "\n",
    "v2 = vx**2 + vy**2  + vz**2\n",
    "Ekin = 0.5*m_ag*np.sum(v2)\n",
    "Tkin = 2*Ekin/(3*n_atoms*kb)  \n",
    "\n",
    "Ix = np.sum(vy*z-vz*y)\n",
    "Iy = np.sum(vz*x-vx*z)\n",
    "Iz = np.sum(vx*y-vy*x)\n",
    "\n",
    "print('translation removal check:')\n",
    "print(f'    mean vx: {np.mean(vx)}')\n",
    "print(f'    mean vy: {np.mean(vy)}')\n",
    "print(f'    mean vz: {np.mean(vz)}\\n')\n",
    "print(f'Set temperature: {T:.2f}K; real temperature: {Tkin:.2f}K')"
   ]
  },
  {
   "cell_type": "markdown",
   "id": "4ce33f02",
   "metadata": {},
   "source": [
    "### Test zone - used for quick tests and monkey patch"
   ]
  },
  {
   "cell_type": "code",
   "execution_count": 12,
   "id": "c032a6ca",
   "metadata": {},
   "outputs": [],
   "source": [
    "timelenght = 50e-12    \n",
    "timestep = 2.5e-14     \n",
    "steps = int(timelenght/timestep)\n",
    "time_array = np.arange(0,timelenght,timestep)\n",
    "Temp_array = []\n",
    "energy_array = []"
   ]
  },
  {
   "cell_type": "code",
   "execution_count": 13,
   "id": "6c52d999",
   "metadata": {},
   "outputs": [],
   "source": [
    "ax,ay,az = interaction.calc_acceleration(Fx,Fy,Fz)\n",
    "v2 = vx**2 + vy**2  + vz**2\n",
    "E_kin = 0.5*m_ag*np.sum(v2)\n",
    "T_kin = 2*Ekin/(3*n_atoms*kb)  \n",
    "E_pot = interaction.lennard_jones(distances)\n",
    "E_tot = Ekin + E_pot\n",
    "\n",
    "#atoms motion arrays\n",
    "all_x = []\n",
    "all_y = []\n",
    "all_z = []\n",
    "all_vz = []\n",
    "all_az = []"
   ]
  },
  {
   "cell_type": "code",
   "execution_count": 19,
   "id": "6a8981fa",
   "metadata": {},
   "outputs": [
    {
     "data": {
      "application/vnd.jupyter.widget-view+json": {
       "model_id": "d1b4edf3e8a34580bdac104714cf1883",
       "version_major": 2,
       "version_minor": 0
      },
      "text/plain": [
       "  0%|          | 0/2000 [00:00<?, ?it/s]"
      ]
     },
     "metadata": {},
     "output_type": "display_data"
    },
    {
     "name": "stderr",
     "output_type": "stream",
     "text": [
      "/home/demetrio/anaconda3/envs/tf/lib/python3.8/site-packages/numpy/core/_methods.py:205: RuntimeWarning: overflow encountered in multiply\n",
      "  x = um.multiply(x, x, out=x)\n"
     ]
    }
   ],
   "source": [
    "for i in tqdm(range(0,steps)):\n",
    "    new_x,new_y,new_z = evolution.make_a_move(x,y,z,vx,vy,vz,ax,ay,az,timestep)\n",
    "    mask, distance = basic.find_neighbours(*lattice)\n",
    "    new_Fx,new_Fy,new_Fz = interaction.calc_force(n_atoms,sx,sy,sz,new_x,new_y,new_z,distance)\n",
    "    new_ax,new_ay,new_az = interaction.calc_acceleration(new_Fx,new_Fy,new_Fz)\n",
    "    new_vx,new_vy,new_vz = evolution.update_velocity(vx,vy,vz,ax,ay,az,new_ax,new_ay,new_az,timestep)\n",
    "    v2 = new_vx**2 + new_vy**2  + new_vz**2\n",
    "    E_kin = 0.5*m_ag*np.sum(v2)\n",
    "    T_kin = 2*E_kin/(3*n_atoms*kb)  \n",
    "    E_pot = interaction.lennard_jones(distances)\n",
    "    E_tot = E_kin + E_pot\n",
    "    ###\n",
    "    Temp_array.append(T_kin)\n",
    "    energy_array.append(E_tot)\n",
    "    ###\n",
    "    x,y,z = new_x,new_y,new_z\n",
    "    vx,vy,vz = new_vx,new_vy,new_vz\n",
    "    ax,ay,az = new_ax,new_ay,new_az\n",
    "    all_x.append(x)\n",
    "    all_y.append(y)\n",
    "    all_z.append(z)\n",
    "    all_vz.append(vz)\n",
    "    all_az.append(az)\n",
    "    \n",
    "Temp_array = np.asarray(Temp_array)\n",
    "energy_array = np.asarray(energy_array)\n",
    "T_mean = np.mean(Temp_array)\n",
    "E_mean = np.mean(energy_array)\n",
    "T_var = np.var(Temp_array)\n",
    "E_var = np.var(energy_array)"
   ]
  },
  {
   "cell_type": "code",
   "execution_count": 21,
   "id": "de967587",
   "metadata": {},
   "outputs": [
    {
     "data": {
      "text/plain": [
       "Text(0, 0.5, 'Temperature [K]')"
      ]
     },
     "execution_count": 21,
     "metadata": {},
     "output_type": "execute_result"
    },
    {
     "data": {
      "image/png": "[encoded data removed]",
      "text/plain": [
       "<Figure size 864x288 with 1 Axes>"
      ]
     },
     "metadata": {
      "needs_background": "light"
     },
     "output_type": "display_data"
    }
   ],
   "source": [
    "fig,axs = plt.subplots(1,1,sharey=True,figsize=(12,4))\n",
    "\n",
    "axs.plot(time_array*1e12,Temp_array,'.-')\n",
    "axs.set_xlabel('Time [ns]')\n",
    "axs.set_ylabel('Temperature [K]')"
   ]
  },
  {
   "cell_type": "code",
   "execution_count": 25,
   "id": "65ecb95d",
   "metadata": {},
   "outputs": [
    {
     "data": {
      "text/plain": [
       "Text(0, 0.5, 'Temperature [K]')"
      ]
     },
     "execution_count": 25,
     "metadata": {},
     "output_type": "execute_result"
    },
    {
     "data": {
      "image/png": "[encoded data removed]",
      "text/plain": [
       "<Figure size 864x288 with 1 Axes>"
      ]
     },
     "metadata": {
      "needs_background": "light"
     },
     "output_type": "display_data"
    }
   ],
   "source": [
    "fig,axs = plt.subplots(1,1,sharey=True,figsize=(12,4))\n",
    "\n",
    "axs.plot(time_array*1e12,np.transpose(all_x)[0],'.-')\n",
    "axs.set_xlabel('Time [ns]')\n",
    "axs.set_ylabel('x[0] [nm]')"
   ]
  },
  {
   "cell_type": "code",
   "execution_count": null,
   "id": "0a4f08a2",
   "metadata": {},
   "outputs": [],
   "source": []
  }
 ],
 "metadata": {
  "kernelspec": {
   "display_name": "Python 3",
   "language": "python",
   "name": "python3"
  },
  "language_info": {
   "codemirror_mode": {
    "name": "ipython",
    "version": 3
   },
   "file_extension": ".py",
   "mimetype": "text/x-python",
   "name": "python",
   "nbconvert_exporter": "python",
   "pygments_lexer": "ipython3",
   "version": "3.8.8"
  }
 },
 "nbformat": 4,
 "nbformat_minor": 5
}

{
 "cells": [
  {
   "cell_type": "code",
   "execution_count": 1,
   "id": "3a46bb9e",
   "metadata": {},
   "outputs": [],
   "source": [
    "import numpy as np\n",
    "import pandas as pd\n",
    "import matplotlib.pyplot as plt\n",
    "from tqdm.auto import tqdm\n",
    "import time\n",
    "from functions import basic\n",
    "from functions import interaction\n",
    "from functions import evolution\n",
    "%matplotlib inline"
   ]
  },
  {
   "cell_type": "code",
   "execution_count": 2,
   "id": "b3abc354",
   "metadata": {},
   "outputs": [
    {
     "data": {
      "application/javascript": [
       "require([\"codemirror/keymap/sublime\", \"notebook/js/cell\", \"base/js/namespace\"],\n",
       "    function(sublime_keymap, cell, IPython){\n",
       "        cell.Cell.options_default.cm_config.keyMap = 'sublime';\n",
       "        var cells = IPython.notebook.get_cells();\n",
       "        for(var cl=0; cl< cells.length ; cl++){\n",
       "            cells[cl].code_mirror.setOption('keyMap', 'sublime');\n",
       "        }\n",
       "    }\n",
       ");\n"
      ],
      "text/plain": [
       "<IPython.core.display.Javascript object>"
      ]
     },
     "metadata": {},
     "output_type": "display_data"
    }
   ],
   "source": [
    "%%javascript\n",
    "require([\"codemirror/keymap/sublime\", \"notebook/js/cell\", \"base/js/namespace\"],\n",
    "    function(sublime_keymap, cell, IPython){\n",
    "        cell.Cell.options_default.cm_config.keyMap = 'sublime';\n",
    "        var cells = IPython.notebook.get_cells();\n",
    "        for(var cl=0; cl< cells.length ; cl++){\n",
    "            cells[cl].code_mirror.setOption('keyMap', 'sublime');\n",
    "        }\n",
    "    }\n",
    ");"
   ]
  },
  {
   "cell_type": "code",
   "execution_count": 3,
   "id": "0b87676e",
   "metadata": {},
   "outputs": [],
   "source": [
    "# reading input file\n",
    "filename = \"fcc100a256.txt\"\n",
    "lattice = basic.read_file(filename)"
   ]
  },
  {
   "cell_type": "code",
   "execution_count": 4,
   "id": "a2563122",
   "metadata": {},
   "outputs": [
    {
     "name": "stdout",
     "output_type": "stream",
     "text": [
      "no PBC - 100 iterations; computing time: 0.56 seconds\n",
      "PBC - 100 iterations; computing time: 0.59 seconds\n"
     ]
    }
   ],
   "source": [
    "# computing ditances, finding neighbours\n",
    "\n",
    "# no PBC test\n",
    "start = time.process_time()\n",
    "for i in range(100):\n",
    "    mask,distances = basic.find_neighbours(*lattice)\n",
    "print(f'no PBC - 100 iterations; computing time: {time.process_time() - start :.2f} seconds')\n",
    "\n",
    "start = time.process_time()\n",
    "for i in range(100):\n",
    "    mask,distances = basic.find_neighbours(*lattice, PBC=True)\n",
    "print(f'PBC - 100 iterations; computing time: {time.process_time() - start :.2f} seconds')"
   ]
  },
  {
   "cell_type": "code",
   "execution_count": 5,
   "id": "da0902a2",
   "metadata": {},
   "outputs": [
    {
     "name": "stderr",
     "output_type": "stream",
     "text": [
      "/home/demetrio/git_repo/molecular_dynamics/functions/interaction.py:44: RuntimeWarning: divide by zero encountered in true_divide\n",
      "  Epot_rp = 4*epsilon*((sigma/(mask_rp*distances))**12 - (sigma/(mask_rp*distances))**6)\n",
      "/home/demetrio/git_repo/molecular_dynamics/functions/interaction.py:44: RuntimeWarning: invalid value encountered in subtract\n",
      "  Epot_rp = 4*epsilon*((sigma/(mask_rp*distances))**12 - (sigma/(mask_rp*distances))**6)\n",
      "/home/demetrio/git_repo/molecular_dynamics/functions/interaction.py:45: RuntimeWarning: invalid value encountered in multiply\n",
      "  Epot_rc = Apoli7*mask_rc + Bpoli7*mask_rc*distances + Cpoli7*((mask_rc*distances)**2) + Dpoli7*((mask_rc*distances)**3) + Epoli7*((mask_rc*distances)**4) + Fpoli7*((mask_rc*distances)**5) + Gpoli7*((mask_rc*distances)**6) + Hpoli7*((mask_rc*distances)**7)\n",
      "/home/demetrio/git_repo/molecular_dynamics/functions/interaction.py:44: RuntimeWarning: invalid value encountered in multiply\n",
      "  Epot_rp = 4*epsilon*((sigma/(mask_rp*distances))**12 - (sigma/(mask_rp*distances))**6)\n"
     ]
    },
    {
     "name": "stdout",
     "output_type": "stream",
     "text": [
      "approximate LJ - 100 iterations; computing time: 0.75 seconds\n",
      "true LJ - 100 iterations; computing time: 0.82 seconds\n",
      "\n",
      "approximate LJ: -453.45\n",
      "true LJ: -532.48\n"
     ]
    }
   ],
   "source": [
    "# calculating potential energy\n",
    "mask,distances = basic.find_neighbours(*lattice)\n",
    "\n",
    "# approximate LJ\n",
    "start = time.process_time()\n",
    "for i in range(100):\n",
    "    LJA = interaction.lennard_jones_approx(distances)\n",
    "print(f'approximate LJ - 100 iterations; computing time: {time.process_time() - start :.2f} seconds')\n",
    "\n",
    "# true LJ\n",
    "start = time.process_time()\n",
    "for i in range(100):\n",
    "    LJ = interaction.lennard_jones(distances)\n",
    "print(f'true LJ - 100 iterations; computing time: {time.process_time() - start :.2f} seconds')\n",
    "\n",
    "print('')\n",
    "print(f'approximate LJ: {LJA:.2f}')\n",
    "print(f'true LJ: {LJ:.2f}')"
   ]
  },
  {
   "cell_type": "code",
   "execution_count": 17,
   "id": "96614b73",
   "metadata": {},
   "outputs": [
    {
     "name": "stdout",
     "output_type": "stream",
     "text": [
      "approximate LJ - 100 iterations; computing time: 2.64 seconds\n",
      "true LJ - 100 iterations; computing time: 2.96 seconds\n",
      "\n",
      "approximate LJ, force on 0-th atom: 0.00,0.00,0.00\n",
      "true LJ, force on 0-th atom: 0.09,0.09,0.09\n"
     ]
    }
   ],
   "source": [
    "# calculating forces\n",
    "\n",
    "# approximate LJ\n",
    "start = time.process_time()\n",
    "for i in range(100):\n",
    "    FxA,FyA,FzA = interaction.calc_force_approx(*lattice,distances,PBC=True)\n",
    "print(f'approximate LJ - 100 iterations; computing time: {time.process_time() - start :.2f} seconds')\n",
    "\n",
    "# approximate LJ\n",
    "start = time.process_time()\n",
    "for i in range(100):\n",
    "    Fx,Fy,Fz = interaction.calc_force(*lattice,distances,PBC=True)\n",
    "print(f'true LJ - 100 iterations; computing time: {time.process_time() - start :.2f} seconds')\n",
    "\n",
    "print('')\n",
    "print(f'approximate LJ, force on 0-th atom: {FxA[1]:.2f},{FyA[1]:.2f},{FzA[1]:.2f}')\n",
    "print(f'true LJ, force on 0-th atom: {Fx[1]:.2f},{Fy[1]:.2f},{Fz[1]:.2f}')"
   ]
  },
  {
   "cell_type": "code",
   "execution_count": 7,
   "id": "69d44430",
   "metadata": {
    "scrolled": true
   },
   "outputs": [
    {
     "name": "stdout",
     "output_type": "stream",
     "text": [
      "2.0802 2.0802 0.0\n",
      "ALJ, force on 0-th atom: [0.114,0.114,-0.113]\n",
      "TLJ, force on 0-th atom: [0.209,0.209,0.099]\n",
      "\n",
      "0.0 0.0 0.0\n",
      "ALJ, force on 1-th atom: [0.000,0.000,0.000]\n",
      "TLJ, force on 1-th atom: [0.092,0.092,0.095]\n",
      "\n",
      "0.0 4.1604 0.0\n",
      "ALJ, force on 2-th atom: [-0.056,-0.000,-0.056]\n",
      "TLJ, force on 2-th atom: [0.106,0.017,0.109]\n",
      "\n",
      "2.0802 6.2406 0.0\n",
      "ALJ, force on 3-th atom: [0.114,0.000,-0.113]\n",
      "TLJ, force on 3-th atom: [0.223,-0.004,0.143]\n",
      "\n",
      "0.0 8.3208 0.0\n",
      "ALJ, force on 4-th atom: [-0.056,-0.000,-0.056]\n",
      "TLJ, force on 4-th atom: [0.110,-0.003,0.113]\n",
      "\n",
      "2.0802 10.401 0.0\n",
      "ALJ, force on 5-th atom: [0.114,-0.000,-0.113]\n",
      "TLJ, force on 5-th atom: [0.221,-0.024,0.138]\n",
      "\n",
      "0.0 12.4812 0.0\n",
      "ALJ, force on 6-th atom: [-0.056,-0.114,-0.056]\n",
      "TLJ, force on 6-th atom: [0.081,-0.176,0.084]\n",
      "\n",
      "2.0802 14.5614 0.0\n",
      "ALJ, force on 7-th atom: [0.114,0.056,-0.056]\n",
      "TLJ, force on 7-th atom: [0.176,-0.073,0.084]\n",
      "\n",
      "4.1604 0.0 0.0\n",
      "ALJ, force on 8-th atom: [-0.000,-0.056,-0.056]\n",
      "TLJ, force on 8-th atom: [0.017,0.106,0.109]\n",
      "\n",
      "6.2406 2.0802 0.0\n",
      "ALJ, force on 9-th atom: [0.000,0.114,-0.113]\n",
      "TLJ, force on 9-th atom: [-0.004,0.223,0.143]\n",
      "\n"
     ]
    }
   ],
   "source": [
    "for i in range(10):\n",
    "    print(lattice[4][i],lattice[5][i],lattice[6][i])\n",
    "    print(f'ALJ, force on {i}-th atom: [{FxA[i]:.3f},{FyA[i]:.3f},{FzA[i]:.3f}]')\n",
    "    print(f'TLJ, force on {i}-th atom: [{Fx[i]:.3f},{Fy[i]:.3f},{Fz[i]:.3f}]\\n')"
   ]
  },
  {
   "cell_type": "markdown",
   "id": "4ce33f02",
   "metadata": {},
   "source": [
    "### Test zone - used for quick tests and monkey patch"
   ]
  },
  {
   "cell_type": "code",
   "execution_count": 8,
   "id": "da8e23a3",
   "metadata": {},
   "outputs": [
    {
     "data": {
      "image/png": "[encoded data removed]",
      "text/plain": [
       "<Figure size 432x288 with 1 Axes>"
      ]
     },
     "metadata": {
      "needs_background": "light"
     },
     "output_type": "display_data"
    }
   ],
   "source": [
    "for i in range(255):\n",
    "    plt.plot(lattice[4][i],Fx[i],'.')\n",
    "    \n",
    "plt.show()"
   ]
  },
  {
   "cell_type": "code",
   "execution_count": 9,
   "id": "8437e62f",
   "metadata": {},
   "outputs": [
    {
     "data": {
      "image/png": "[encoded data removed]",
      "text/plain": [
       "<Figure size 432x288 with 1 Axes>"
      ]
     },
     "metadata": {
      "needs_background": "light"
     },
     "output_type": "display_data"
    }
   ],
   "source": [
    "for i in range(255):\n",
    "    plt.plot(lattice[5][i],Fy[i],'.')\n",
    "    \n",
    "plt.show()"
   ]
  },
  {
   "cell_type": "code",
   "execution_count": 10,
   "id": "a34007b5",
   "metadata": {},
   "outputs": [
    {
     "data": {
      "image/png": "[encoded data removed]",
      "text/plain": [
       "<Figure size 432x288 with 1 Axes>"
      ]
     },
     "metadata": {
      "needs_background": "light"
     },
     "output_type": "display_data"
    }
   ],
   "source": [
    "for i in range(255):\n",
    "    plt.plot(lattice[6][i],Fz[i],'.')\n",
    "    \n",
    "plt.show()"
   ]
  },
  {
   "cell_type": "code",
   "execution_count": 11,
   "id": "058d5ed0",
   "metadata": {},
   "outputs": [],
   "source": [
    "n_atoms,sx,sy,sz,x,y,z = lattice\n",
    "coord_x =  np.column_stack((x,np.zeros(n_atoms),np.zeros(n_atoms)))\n",
    "coord_y =  np.column_stack((np.zeros(n_atoms),y,np.zeros(n_atoms)))\n",
    "coord_z =  np.column_stack((np.zeros(n_atoms),np.zeros(n_atoms),z))\n",
    "x_distances = np.sum(coord_x[:,None,:] - coord_x, axis=-1)\n",
    "y_distances = np.sum(coord_y[:,None,:] - coord_y, axis=-1)        \n",
    "z_distances = np.sum(coord_z[:,None,:] - coord_z, axis=-1)"
   ]
  },
  {
   "cell_type": "code",
   "execution_count": 12,
   "id": "b03e24fc",
   "metadata": {},
   "outputs": [
    {
     "data": {
      "text/plain": [
       "2.0802"
      ]
     },
     "execution_count": 12,
     "metadata": {},
     "output_type": "execute_result"
    }
   ],
   "source": [
    "x[0]"
   ]
  },
  {
   "cell_type": "code",
   "execution_count": 13,
   "id": "6b41563c",
   "metadata": {},
   "outputs": [
    {
     "data": {
      "text/plain": [
       "array([[10.401 ,  0.    ,  0.    ],\n",
       "       [ 8.3208,  0.    ,  0.    ],\n",
       "       [ 6.2406,  0.    ,  0.    ],\n",
       "       [ 4.1604,  0.    ,  0.    ],\n",
       "       [ 2.0802,  0.    ,  0.    ],\n",
       "       [ 0.    ,  0.    ,  0.    ],\n",
       "       [14.5614,  0.    ,  0.    ],\n",
       "       [12.4812,  0.    ,  0.    ],\n",
       "       [14.5614,  0.    ,  0.    ],\n",
       "       [12.4812,  0.    ,  0.    ]])"
      ]
     },
     "execution_count": 13,
     "metadata": {},
     "output_type": "execute_result"
    }
   ],
   "source": [
    "coord_x[-10:]"
   ]
  },
  {
   "cell_type": "code",
   "execution_count": 14,
   "id": "02f1fef9",
   "metadata": {},
   "outputs": [
    {
     "data": {
      "text/plain": [
       "array([ -8.3208,  -6.2406,  -4.1604,  -2.0802,   0.    ,   2.0802,\n",
       "       -12.4812, -10.401 , -12.4812, -10.401 ])"
      ]
     },
     "execution_count": 14,
     "metadata": {},
     "output_type": "execute_result"
    }
   ],
   "source": [
    "x_distances[0][-10:]"
   ]
  },
  {
   "cell_type": "code",
   "execution_count": 15,
   "id": "43c31a2f",
   "metadata": {},
   "outputs": [],
   "source": [
    "mask_x_plus = x_distances>(0.5*sx)\n",
    "mask_y_plus = y_distances>(0.5*sy)\n",
    "mask_x_minus = x_distances<(-0.5*sx)\n",
    "mask_y_minus = y_distances<(-0.5*sy)\n",
    "x_distances = x_distances - sx*mask_x_plus + sx*mask_x_minus\n",
    "y_distances = y_distances - sy*mask_y_plus + sy*mask_y_minus"
   ]
  },
  {
   "cell_type": "code",
   "execution_count": 16,
   "id": "7e087a83",
   "metadata": {},
   "outputs": [
    {
     "data": {
      "text/plain": [
       "array([-8.3208, -6.2406, -4.1604, -2.0802,  0.    ,  2.0802,  4.1604,\n",
       "        6.2406,  4.1604,  6.2406])"
      ]
     },
     "execution_count": 16,
     "metadata": {},
     "output_type": "execute_result"
    }
   ],
   "source": [
    "x_distances[0][-10:]"
   ]
  },
  {
   "cell_type": "code",
   "execution_count": null,
   "id": "cf3c7bd3",
   "metadata": {},
   "outputs": [],
   "source": []
  }
 ],
 "metadata": {
  "kernelspec": {
   "display_name": "Python 3",
   "language": "python",
   "name": "python3"
  },
  "language_info": {
   "codemirror_mode": {
    "name": "ipython",
    "version": 3
   },
   "file_extension": ".py",
   "mimetype": "text/x-python",
   "name": "python",
   "nbconvert_exporter": "python",
   "pygments_lexer": "ipython3",
   "version": "3.8.8"
  }
 },
 "nbformat": 4,
 "nbformat_minor": 5
}

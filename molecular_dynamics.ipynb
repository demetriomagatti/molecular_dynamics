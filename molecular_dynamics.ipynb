{
 "cells": [
  {
   "cell_type": "code",
   "execution_count": 1,
   "id": "3a46bb9e",
   "metadata": {},
   "outputs": [],
   "source": [
    "import numpy as np\n",
    "import pandas as pd\n",
    "import matplotlib.pyplot as plt\n",
    "from tqdm.auto import tqdm\n",
    "import time\n",
    "from functions import basic\n",
    "from functions import interaction\n",
    "from functions import evolution\n",
    "%matplotlib inline"
   ]
  },
  {
   "cell_type": "code",
   "execution_count": 2,
   "id": "b3abc354",
   "metadata": {},
   "outputs": [
    {
     "data": {
      "application/javascript": [
       "require([\"codemirror/keymap/sublime\", \"notebook/js/cell\", \"base/js/namespace\"],\n",
       "    function(sublime_keymap, cell, IPython){\n",
       "        cell.Cell.options_default.cm_config.keyMap = 'sublime';\n",
       "        var cells = IPython.notebook.get_cells();\n",
       "        for(var cl=0; cl< cells.length ; cl++){\n",
       "            cells[cl].code_mirror.setOption('keyMap', 'sublime');\n",
       "        }\n",
       "    }\n",
       ");\n"
      ],
      "text/plain": [
       "<IPython.core.display.Javascript object>"
      ]
     },
     "metadata": {},
     "output_type": "display_data"
    }
   ],
   "source": [
    "%%javascript\n",
    "require([\"codemirror/keymap/sublime\", \"notebook/js/cell\", \"base/js/namespace\"],\n",
    "    function(sublime_keymap, cell, IPython){\n",
    "        cell.Cell.options_default.cm_config.keyMap = 'sublime';\n",
    "        var cells = IPython.notebook.get_cells();\n",
    "        for(var cl=0; cl< cells.length ; cl++){\n",
    "            cells[cl].code_mirror.setOption('keyMap', 'sublime');\n",
    "        }\n",
    "    }\n",
    ");"
   ]
  },
  {
   "cell_type": "code",
   "execution_count": 3,
   "id": "0b87676e",
   "metadata": {},
   "outputs": [],
   "source": [
    "# reading input file\n",
    "filename = \"fcc100a256.txt\"\n",
    "lattice = basic.read_file(filename)"
   ]
  },
  {
   "cell_type": "code",
   "execution_count": 4,
   "id": "a2563122",
   "metadata": {},
   "outputs": [
    {
     "name": "stdout",
     "output_type": "stream",
     "text": [
      "no PBC - 100 iterations; computing time: 0.57 seconds\n",
      "PBC - 100 iterations; computing time: 0.59 seconds\n"
     ]
    }
   ],
   "source": [
    "# computing ditances, finding neighbours\n",
    "\n",
    "# no PBC test\n",
    "start = time.process_time()\n",
    "for i in range(100):\n",
    "    mask,distances = basic.find_neighbours(*lattice)\n",
    "print(f'no PBC - 100 iterations; computing time: {time.process_time() - start :.2f} seconds')\n",
    "\n",
    "start = time.process_time()\n",
    "for i in range(100):\n",
    "    mask,distances = basic.find_neighbours(*lattice, PBC=True)\n",
    "print(f'PBC - 100 iterations; computing time: {time.process_time() - start :.2f} seconds')"
   ]
  },
  {
   "cell_type": "code",
   "execution_count": 6,
   "id": "da0902a2",
   "metadata": {},
   "outputs": [
    {
     "name": "stdout",
     "output_type": "stream",
     "text": [
      "approximate LJ - 100 iterations; computing time: 0.77 seconds\n",
      "true LJ - 100 iterations; computing time: 0.85 seconds\n",
      "\n",
      "approximate LJ: -453.45\n",
      "true LJ: -532.48\n"
     ]
    }
   ],
   "source": [
    "# calculating potential energy\n",
    "mask,distances = basic.find_neighbours(*lattice)\n",
    "\n",
    "# approximate LJ\n",
    "start = time.process_time()\n",
    "for i in range(100):\n",
    "    LJA = interaction.lennard_jones_approx(distances)\n",
    "print(f'approximate LJ - 100 iterations; computing time: {time.process_time() - start :.2f} seconds')\n",
    "\n",
    "# true LJ\n",
    "start = time.process_time()\n",
    "for i in range(100):\n",
    "    LJ = interaction.lennard_jones(distances)\n",
    "print(f'true LJ - 100 iterations; computing time: {time.process_time() - start :.2f} seconds')\n",
    "\n",
    "print('')\n",
    "print(f'approximate LJ: {LJA:.2f}')\n",
    "print(f'true LJ: {LJ:.2f}')"
   ]
  },
  {
   "cell_type": "code",
   "execution_count": 20,
   "id": "96614b73",
   "metadata": {},
   "outputs": [
    {
     "name": "stdout",
     "output_type": "stream",
     "text": [
      "approximate LJ - 100 iterations; computing time: 2.75 seconds\n",
      "true LJ - 100 iterations; computing time: 3.13 seconds\n",
      "\n",
      "approximate LJ, force on 0-th atom: 0.00,0.00,0.00\n",
      "true LJ, force on 0-th atom: 0.00,0.00,0.37\n"
     ]
    }
   ],
   "source": [
    "# calculating forces\n",
    "\n",
    "# approximate LJ\n",
    "start = time.process_time()\n",
    "for i in range(100):\n",
    "    FxA,FyA,FzA = interaction.calc_force_approx(*lattice,distances,PBC=True)\n",
    "print(f'approximate LJ - 100 iterations; computing time: {time.process_time() - start :.2f} seconds')\n",
    "\n",
    "# approximate LJ\n",
    "start = time.process_time()\n",
    "for i in range(100):\n",
    "    Fx,Fy,Fz = interaction.calc_force(*lattice,distances,PBC=True)\n",
    "print(f'true LJ - 100 iterations; computing time: {time.process_time() - start :.2f} seconds')\n",
    "\n",
    "print('')\n",
    "print(f'approximate LJ, force on 0-th atom: {FxA[1]:.2f},{FyA[1]:.2f},{FzA[1]:.2f}')\n",
    "print(f'true LJ, force on 0-th atom: {Fx[1]:.2f},{Fy[1]:.2f},{Fz[1]:.2f}')"
   ]
  },
  {
   "cell_type": "markdown",
   "id": "4ce33f02",
   "metadata": {},
   "source": [
    "### Test zone - used for quick tests and monkey patch"
   ]
  },
  {
   "cell_type": "code",
   "execution_count": 21,
   "id": "0d8d3dad",
   "metadata": {},
   "outputs": [],
   "source": [
    "n_atoms,sx,sy,sz,x,y,z = lattice"
   ]
  },
  {
   "cell_type": "code",
   "execution_count": 25,
   "id": "95b9358e",
   "metadata": {},
   "outputs": [
    {
     "data": {
      "image/png": "[encoded data removed]",
      "text/plain": [
       "<Figure size 432x288 with 1 Axes>"
      ]
     },
     "metadata": {
      "needs_background": "light"
     },
     "output_type": "display_data"
    }
   ],
   "source": [
    "for i in range(255):\n",
    "    plt.plot(x[i],FxA[i],'.')\n",
    "plt.grid()"
   ]
  },
  {
   "cell_type": "code",
   "execution_count": null,
   "id": "1db330f2",
   "metadata": {},
   "outputs": [],
   "source": []
  },
  {
   "cell_type": "code",
   "execution_count": null,
   "id": "e57ce493",
   "metadata": {},
   "outputs": [],
   "source": []
  },
  {
   "cell_type": "code",
   "execution_count": null,
   "id": "63d25752",
   "metadata": {},
   "outputs": [],
   "source": [
    "# constant values \n",
    "rc = 4.625\n",
    "rp = 4.375\n",
    "sigma = 2.644\n",
    "epsilon = 0.345\n",
    "kb = 1/11603\n",
    "Temp = 100\n",
    "m_ag = 108*1.66e-27/16"
   ]
  },
  {
   "cell_type": "code",
   "execution_count": null,
   "id": "181fd2a9",
   "metadata": {},
   "outputs": [],
   "source": [
    "n_atoms,sx,sy,sz,x,y,z = lattice\n",
    "\n",
    "coord_x =  np.column_stack((x,np.zeros(n_atoms),np.zeros(n_atoms)))\n",
    "coord_y =  np.column_stack((np.zeros(n_atoms),y,np.zeros(n_atoms)))\n",
    "coord_z =  np.column_stack((np.zeros(n_atoms),np.zeros(n_atoms),z))\n",
    "x_distances = np.sum(coord_x[:,None,:] - coord_x, axis=-1)\n",
    "y_distances = np.sum(coord_y[:,None,:] - coord_y, axis=-1)        \n",
    "z_distances = np.sum(coord_z[:,None,:] - coord_z, axis=-1)\n",
    "\n",
    "distances[np.where(distances==0)] = np.infty"
   ]
  },
  {
   "cell_type": "code",
   "execution_count": null,
   "id": "21122ff8",
   "metadata": {},
   "outputs": [],
   "source": [
    "Fx = 24*epsilon*( 2*sigma**12*(distances)**(-14) - sigma**6*(distances)**(-8) )*(x_distances)"
   ]
  },
  {
   "cell_type": "code",
   "execution_count": null,
   "id": "8c1059f6",
   "metadata": {},
   "outputs": [],
   "source": [
    "mask_x_plus = x_distances>(0.5*sx)\n",
    "mask_y_plus = y_distances>(0.5*sy)\n",
    "mask_x_minus = x_distances<(-0.5*sx)\n",
    "mask_y_minus = y_distances<(-0.5*sy)\n",
    "x_distances = x_distances - sx*mask_x_plus + sx*mask_x_minus\n",
    "y_distances = y_distances - sy*mask_y_plus + sy*mask_y_minus\n",
    "\n",
    "Fx_pbc = 24*epsilon*( 2*sigma**12*(distances)**(-14) - sigma**6*(distances)**(-8) )*(x_distances)"
   ]
  },
  {
   "cell_type": "code",
   "execution_count": null,
   "id": "dc3abe74",
   "metadata": {},
   "outputs": [],
   "source": [
    "print(x[1])\n",
    "print()\n",
    "\n",
    "for i in range(255):   \n",
    "    print(x[i])\n",
    "    print(Fx[1][i])\n",
    "    print(Fx_pbc[1][i])\n",
    "    print()"
   ]
  },
  {
   "cell_type": "code",
   "execution_count": null,
   "id": "94954d31",
   "metadata": {},
   "outputs": [],
   "source": [
    "Fx_tot = 0\n",
    "Fx_tot_pbc = 0\n",
    "\n",
    "for i in range(255):\n",
    "    Fx_tot = Fx_tot + Fx[1][i]\n",
    "    Fx_tot_pbc = Fx_tot_pbc + Fx_pbc[1][i]\n",
    "    \n",
    "Fx_tot, Fx_tot_pbc"
   ]
  },
  {
   "cell_type": "code",
   "execution_count": null,
   "id": "46303192",
   "metadata": {},
   "outputs": [],
   "source": [
    "mask,distances = basic.find_neighbours(*lattice)\n",
    "\n",
    "n_atoms,sx,sy,sz,x,y,z = lattice\n",
    "\n",
    "coord_x =  np.column_stack((x,np.zeros(n_atoms),np.zeros(n_atoms)))\n",
    "coord_y =  np.column_stack((np.zeros(n_atoms),y,np.zeros(n_atoms)))\n",
    "coord_z =  np.column_stack((np.zeros(n_atoms),np.zeros(n_atoms),z))\n",
    "x_distances = np.sum(coord_x[:,None,:] - coord_x, axis=-1)\n",
    "y_distances = np.sum(coord_y[:,None,:] - coord_y, axis=-1)        \n",
    "z_distances = np.sum(coord_z[:,None,:] - coord_z, axis=-1)\n",
    "\n",
    "distances[np.where(distances==0)] = np.infty\n",
    "\n",
    "\n",
    "\n",
    "mask_x_plus = x_distances>(0.5*sx)\n",
    "mask_y_plus = y_distances>(0.5*sy)\n",
    "mask_x_minus = x_distances<(-0.5*sx)\n",
    "mask_y_minus = y_distances<(-0.5*sy)\n",
    "x_distances = x_distances - sx*mask_x_plus + sx*mask_x_minus\n",
    "y_distances = y_distances - sy*mask_y_plus + sy*mask_y_minus\n",
    "x_distances[np.where(np.abs(x_distances)==0.5*sx)] = 0\n",
    "\n",
    "Fx_pbc = 24*epsilon*( 2*sigma**12*(distances)**(-14) - sigma**6*(distances)**(-8) )*(x_distances)\n",
    "Fx_pbc = np.nansum(Fx_pbc,axis=1)\n",
    "\n",
    "Fy_pbc = 24*epsilon*( 2*sigma**12*(distances)**(-14) - sigma**6*(distances)**(-8) )*(y_distances)\n",
    "Fy_pbc = np.nansum(Fy_pbc,axis=1)\n",
    "\n",
    "Fz_pbc = 24*epsilon*( 2*sigma**12*(distances)**(-14) - sigma**6*(distances)**(-8) )*(z_distances)\n",
    "Fz_pbc = np.nansum(Fz_pbc,axis=1)"
   ]
  },
  {
   "cell_type": "code",
   "execution_count": null,
   "id": "8b31881f",
   "metadata": {},
   "outputs": [],
   "source": [
    "for i in range(255):\n",
    "    plt.plot(x[i],Fx_pbc[i],'.')\n",
    "plt.grid()"
   ]
  },
  {
   "cell_type": "code",
   "execution_count": null,
   "id": "4f48c009",
   "metadata": {},
   "outputs": [],
   "source": [
    "for i in range(255):\n",
    "    plt.plot(y[i],Fy_pbc[i],'.')\n",
    "plt.grid()"
   ]
  },
  {
   "cell_type": "code",
   "execution_count": null,
   "id": "60b08f04",
   "metadata": {
    "scrolled": true
   },
   "outputs": [],
   "source": [
    "for i in range(255):\n",
    "    plt.plot(z[i],Fz_pbc[i],'.')\n",
    "plt.grid()"
   ]
  },
  {
   "cell_type": "code",
   "execution_count": null,
   "id": "6e2fb011",
   "metadata": {},
   "outputs": [],
   "source": []
  },
  {
   "cell_type": "code",
   "execution_count": null,
   "id": "c2f07c11",
   "metadata": {},
   "outputs": [],
   "source": [
    "mask,distances = basic.find_neighbours(*lattice)\n",
    "\n",
    "n_atoms,sx,sy,sz,x,y,z = lattice\n",
    "\n",
    "coord_x =  np.column_stack((x,np.zeros(n_atoms),np.zeros(n_atoms)))\n",
    "coord_y =  np.column_stack((np.zeros(n_atoms),y,np.zeros(n_atoms)))\n",
    "coord_z =  np.column_stack((np.zeros(n_atoms),np.zeros(n_atoms),z))\n",
    "x_distances = np.sum(coord_x[:,None,:] - coord_x, axis=-1)\n",
    "y_distances = np.sum(coord_y[:,None,:] - coord_y, axis=-1)        \n",
    "z_distances = np.sum(coord_z[:,None,:] - coord_z, axis=-1)\n",
    "\n",
    "distances[np.where(distances==0)] = np.infty"
   ]
  },
  {
   "cell_type": "code",
   "execution_count": null,
   "id": "44c6de97",
   "metadata": {
    "scrolled": true
   },
   "outputs": [],
   "source": [
    "x_distances[0]"
   ]
  },
  {
   "cell_type": "code",
   "execution_count": null,
   "id": "fef05f1f",
   "metadata": {},
   "outputs": [],
   "source": [
    "np.sum(x_distances[0])"
   ]
  },
  {
   "cell_type": "code",
   "execution_count": null,
   "id": "90749a58",
   "metadata": {},
   "outputs": [],
   "source": [
    "mask_x_plus = x_distances>(0.5*sx)\n",
    "mask_y_plus = y_distances>(0.5*sy)\n",
    "mask_x_minus = x_distances<(-0.5*sx)\n",
    "mask_y_minus = y_distances<(-0.5*sy)\n",
    "x_distances = x_distances - sx*mask_x_plus + sx*mask_x_minus\n",
    "y_distances = y_distances - sy*mask_y_plus + sy*mask_y_minus\n",
    "x_distances[np.where(np.abs(x_distances)==0.5*sx)] = 0"
   ]
  },
  {
   "cell_type": "code",
   "execution_count": null,
   "id": "fa2eb2b9",
   "metadata": {
    "scrolled": true
   },
   "outputs": [],
   "source": [
    "x_distances[0]"
   ]
  },
  {
   "cell_type": "code",
   "execution_count": null,
   "id": "6ce5a03a",
   "metadata": {},
   "outputs": [],
   "source": [
    "np.sum(x_distances[0])"
   ]
  },
  {
   "cell_type": "code",
   "execution_count": null,
   "id": "07d80daa",
   "metadata": {},
   "outputs": [],
   "source": []
  }
 ],
 "metadata": {
  "kernelspec": {
   "display_name": "Python 3",
   "language": "python",
   "name": "python3"
  },
  "language_info": {
   "codemirror_mode": {
    "name": "ipython",
    "version": 3
   },
   "file_extension": ".py",
   "mimetype": "text/x-python",
   "name": "python",
   "nbconvert_exporter": "python",
   "pygments_lexer": "ipython3",
   "version": "3.8.8"
  }
 },
 "nbformat": 4,
 "nbformat_minor": 5
}

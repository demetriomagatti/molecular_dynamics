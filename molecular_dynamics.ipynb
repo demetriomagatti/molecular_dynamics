{
 "cells": [
  {
   "cell_type": "code",
   "execution_count": 1,
   "id": "3a46bb9e",
   "metadata": {},
   "outputs": [],
   "source": [
    "import numpy as np\n",
    "import pandas as pd\n",
    "import matplotlib.pyplot as plt\n",
    "from tqdm.auto import tqdm\n",
    "import time\n",
    "from functions import basic\n",
    "from functions import interaction\n",
    "from functions import evolution\n",
    "import main\n",
    "%matplotlib inline"
   ]
  },
  {
   "cell_type": "code",
   "execution_count": 2,
   "id": "b3abc354",
   "metadata": {},
   "outputs": [
    {
     "data": {
      "application/javascript": [
       "require([\"codemirror/keymap/sublime\", \"notebook/js/cell\", \"base/js/namespace\"],\n",
       "    function(sublime_keymap, cell, IPython){\n",
       "        cell.Cell.options_default.cm_config.keyMap = 'sublime';\n",
       "        var cells = IPython.notebook.get_cells();\n",
       "        for(var cl=0; cl< cells.length ; cl++){\n",
       "            cells[cl].code_mirror.setOption('keyMap', 'sublime');\n",
       "        }\n",
       "    }\n",
       ");\n"
      ],
      "text/plain": [
       "<IPython.core.display.Javascript object>"
      ]
     },
     "metadata": {},
     "output_type": "display_data"
    }
   ],
   "source": [
    "%%javascript\n",
    "require([\"codemirror/keymap/sublime\", \"notebook/js/cell\", \"base/js/namespace\"],\n",
    "    function(sublime_keymap, cell, IPython){\n",
    "        cell.Cell.options_default.cm_config.keyMap = 'sublime';\n",
    "        var cells = IPython.notebook.get_cells();\n",
    "        for(var cl=0; cl< cells.length ; cl++){\n",
    "            cells[cl].code_mirror.setOption('keyMap', 'sublime');\n",
    "        }\n",
    "    }\n",
    ");"
   ]
  },
  {
   "cell_type": "code",
   "execution_count": 3,
   "id": "6acf6bcd",
   "metadata": {},
   "outputs": [],
   "source": [
    "import warnings\n",
    "warnings.filterwarnings(\"ignore\", category=RuntimeWarning) "
   ]
  },
  {
   "cell_type": "markdown",
   "id": "7b86589f",
   "metadata": {},
   "source": [
    "### Step-by-step part"
   ]
  },
  {
   "cell_type": "code",
   "execution_count": null,
   "id": "0b87676e",
   "metadata": {},
   "outputs": [],
   "source": [
    "# reading input file\n",
    "filename = \"fcc100a256.txt\"\n",
    "lattice = basic.read_file(filename)"
   ]
  },
  {
   "cell_type": "code",
   "execution_count": null,
   "id": "a2563122",
   "metadata": {},
   "outputs": [],
   "source": [
    "# computing ditances, finding neighbours\n",
    "\n",
    "# no PBC test\n",
    "start = time.process_time()\n",
    "for i in range(100):\n",
    "    mask,distances = basic.find_neighbours(*lattice)\n",
    "print(f'no PBC - 100 iterations; computing time: {time.process_time() - start :.2f} seconds')\n",
    "\n",
    "start = time.process_time()\n",
    "for i in range(100):\n",
    "    mask,distances = basic.find_neighbours(*lattice, PBC=True)\n",
    "print(f'PBC - 100 iterations; computing time: {time.process_time() - start :.2f} seconds')"
   ]
  },
  {
   "cell_type": "code",
   "execution_count": null,
   "id": "da0902a2",
   "metadata": {},
   "outputs": [],
   "source": [
    "# calculating potential energy\n",
    "mask,distances = basic.find_neighbours(*lattice)\n",
    "\n",
    "# approximate LJ\n",
    "start = time.process_time()\n",
    "for i in range(100):\n",
    "    LJA = interaction.lennard_jones_approx(distances)\n",
    "print(f'approximate LJ - 100 iterations; computing time: {time.process_time() - start :.2f} seconds')\n",
    "\n",
    "# true LJ\n",
    "start = time.process_time()\n",
    "for i in range(100):\n",
    "    LJ = interaction.lennard_jones(distances)\n",
    "print(f'true LJ - 100 iterations; computing time: {time.process_time() - start :.2f} seconds')\n",
    "\n",
    "print('')\n",
    "print(f'approximate LJ: {LJA:.2f}')\n",
    "print(f'true LJ: {LJ:.2f}')"
   ]
  },
  {
   "cell_type": "code",
   "execution_count": null,
   "id": "96614b73",
   "metadata": {},
   "outputs": [],
   "source": [
    "# calculating forces\n",
    "\n",
    "# approximate LJ\n",
    "start = time.process_time()\n",
    "for i in range(100):\n",
    "    FxA,FyA,FzA = interaction.calc_force_approx(*lattice,distances,PBC=True)\n",
    "print(f'approximate LJ - 100 iterations; computing time: {time.process_time() - start :.2f} seconds')\n",
    "\n",
    "# approximate LJ\n",
    "start = time.process_time()\n",
    "for i in range(100):\n",
    "    Fx,Fy,Fz = interaction.calc_force(*lattice,distances,PBC=True)\n",
    "print(f'true LJ - 100 iterations; computing time: {time.process_time() - start :.2f} seconds')\n",
    "\n",
    "print('')\n",
    "print(f'approximate LJ, force on 0-th atom: {FxA[1]:.2f},{FyA[1]:.2f},{FzA[1]:.2f}')\n",
    "print(f'true LJ, force on 0-th atom: {Fx[1]:.2f},{Fy[1]:.2f},{Fz[1]:.2f}')"
   ]
  },
  {
   "cell_type": "code",
   "execution_count": null,
   "id": "230f0eac",
   "metadata": {},
   "outputs": [],
   "source": [
    "n_atoms,sx,sy,sz,x,y,z = lattice\n",
    "\n",
    "fig,axs = plt.subplots(1,3,sharey=True,figsize=(12,4))\n",
    "\n",
    "for i in range(255):\n",
    "    axs[0].plot(x[i],FxA[i],'.')\n",
    "    axs[1].plot(y[i],FyA[i],'.')\n",
    "    axs[2].plot(z[i],FzA[i],'.')\n",
    "\n",
    "for i in range(3):\n",
    "    axs[i].grid()\n",
    "\n",
    "axs[0].set_xlabel('x')\n",
    "axs[0].set_ylabel('Fx')\n",
    "axs[1].set_xlabel('y')\n",
    "axs[1].set_ylabel('Fy')\n",
    "axs[2].set_xlabel('z')\n",
    "axs[2].set_ylabel('Fz')\n",
    "\n",
    "fig.suptitle('Force components - perfect lattice - approximate LJ - PBC')\n",
    "plt.show()"
   ]
  },
  {
   "cell_type": "code",
   "execution_count": null,
   "id": "7179ce0b",
   "metadata": {},
   "outputs": [],
   "source": [
    "fig,axs = plt.subplots(1,3,sharey=True,figsize=(12,4))\n",
    "\n",
    "for i in range(255):\n",
    "    axs[0].plot(x[i],Fx[i],'.')\n",
    "    axs[1].plot(y[i],Fy[i],'.')\n",
    "    axs[2].plot(z[i],Fz[i],'.')\n",
    "\n",
    "for i in range(3):\n",
    "    axs[i].grid()\n",
    "\n",
    "axs[0].set_xlabel('x')\n",
    "axs[0].set_ylabel('Fx')\n",
    "axs[1].set_xlabel('y')\n",
    "axs[1].set_ylabel('Fy')\n",
    "axs[2].set_xlabel('z')\n",
    "axs[2].set_ylabel('Fz')\n",
    "\n",
    "fig.suptitle('Force components - perfect lattice - true LJ - PBC')\n",
    "plt.show()"
   ]
  },
  {
   "cell_type": "code",
   "execution_count": null,
   "id": "c4d612d3",
   "metadata": {},
   "outputs": [],
   "source": [
    "# initializing speed\n",
    "m_ag = 108*1.66e-27/16\n",
    "kb = 1/11603\n",
    "T = 100\n",
    "\n",
    "start = time.process_time()\n",
    "vx,vy,vz = basic.initialize_speed(n_atoms,x,y,z,T,remove_translation=True)\n",
    "print(f'speed initialization; computing time: {time.process_time() - start :.3f} seconds\\n')\n",
    "\n",
    "v2 = vx**2 + vy**2  + vz**2\n",
    "Ekin = 0.5*m_ag*np.sum(v2)\n",
    "Tkin = 2*Ekin/(3*n_atoms*kb)  \n",
    "\n",
    "print('translation removal check:')\n",
    "print(f'    mean vx: {np.mean(vx)}')\n",
    "print(f'    mean vy: {np.mean(vy)}')\n",
    "print(f'    mean vz: {np.mean(vz)}\\n')\n",
    "print(f'Set temperature: {T:.2f}K; real temperature: {Tkin:.2f}K')"
   ]
  },
  {
   "cell_type": "markdown",
   "id": "2ca36e4d",
   "metadata": {},
   "source": [
    "### Full simulation using built-in function"
   ]
  },
  {
   "cell_type": "markdown",
   "id": "b156761d",
   "metadata": {},
   "source": [
    "#### No PBC, no approx"
   ]
  },
  {
   "cell_type": "code",
   "execution_count": null,
   "id": "e144ce05",
   "metadata": {},
   "outputs": [],
   "source": [
    "filename = \"fcc100a256.txt\"\n",
    "timelength = 50e-12    \n",
    "timestep = 1.5e-14   \n",
    "T = 50\n",
    "\n",
    "results = main.make_simulation(filename,T,timelength,timestep)\n",
    "time_array,all_x,all_y,all_z,Temp_array,energy_array = results"
   ]
  },
  {
   "cell_type": "code",
   "execution_count": null,
   "id": "ca55e264",
   "metadata": {},
   "outputs": [],
   "source": [
    "fig,axs = plt.subplots(1,2,figsize=(12,4))\n",
    "\n",
    "axs[0].plot(time_array*1e12,Temp_array,'.-')\n",
    "axs[0].plot(time_array[2000:]*1e12,Temp_array[2000:],'.-')\n",
    "axs[1].plot(time_array*1e12,energy_array,'.-')\n",
    "axs[1].plot(time_array[2000:]*1e12,energy_array[2000:],'.-')\n",
    "\n",
    "for ax in axs:\n",
    "    ax.set_xlabel('Time [ps]')\n",
    "\n",
    "axs[0].set_ylabel('Temperature [K]')\n",
    "axs[1].set_ylabel('Energy [eV]')\n",
    "\n",
    "fig.tight_layout()"
   ]
  },
  {
   "cell_type": "code",
   "execution_count": null,
   "id": "d6dc1c73",
   "metadata": {},
   "outputs": [],
   "source": [
    "fig,axs = plt.subplots(1,3,sharey=True,figsize=(12,4))\n",
    "\n",
    "axs[0].plot(time_array*1e12,all_x[0],'.-')\n",
    "axs[1].plot(time_array*1e12,all_y[0],'.-')\n",
    "axs[2].plot(time_array*1e12,all_z[0],'.-')\n",
    "\n",
    "for ax in axs:\n",
    "    ax.set_xlabel('Time [ps]')\n",
    "    \n",
    "axs[0].set_ylabel('x[0] [nm]')\n",
    "axs[1].set_ylabel('y[0] [nm]')\n",
    "axs[2].set_ylabel('z[0] [nm]')\n",
    "\n",
    "fig.tight_layout()"
   ]
  },
  {
   "cell_type": "markdown",
   "id": "457512e0",
   "metadata": {},
   "source": [
    "#### PBC, approx"
   ]
  },
  {
   "cell_type": "code",
   "execution_count": null,
   "id": "d5dd004d",
   "metadata": {},
   "outputs": [],
   "source": [
    "filename = \"fcc100a256.txt\"\n",
    "timelength = 40e-12    \n",
    "timestep = 1.5e-14   \n",
    "T = 100\n",
    "\n",
    "results = main.make_simulation(filename,T,timelength,timestep,PBC=True,approx=True)\n",
    "time_array,all_x,all_y,all_z,Temp_array,energy_array = results"
   ]
  },
  {
   "cell_type": "code",
   "execution_count": null,
   "id": "57b80ba3",
   "metadata": {},
   "outputs": [],
   "source": [
    "fig,axs = plt.subplots(1,2,figsize=(12,4))\n",
    "\n",
    "axs[0].plot(time_array*1e12,Temp_array,'.-')\n",
    "axs[0].plot(time_array[400:]*1e12,Temp_array[400:],'.-')\n",
    "axs[1].plot(time_array*1e12,energy_array,'.-')\n",
    "axs[1].plot(time_array[400:]*1e12,energy_array[400:],'.-')\n",
    "\n",
    "for ax in axs:\n",
    "    ax.set_xlabel('Time [ps]')\n",
    "\n",
    "axs[0].set_ylabel('Temperature [K]')\n",
    "axs[1].set_ylabel('Energy [eV]')\n",
    "\n",
    "fig.tight_layout()"
   ]
  },
  {
   "cell_type": "code",
   "execution_count": null,
   "id": "4ed61371",
   "metadata": {},
   "outputs": [],
   "source": [
    "fig,axs = plt.subplots(1,3,sharey=True,figsize=(12,4))\n",
    "\n",
    "axs[0].plot(time_array*1e12,all_x[0],'.-')\n",
    "axs[1].plot(time_array*1e12,all_y[0],'.-')\n",
    "axs[2].plot(time_array*1e12,all_z[0],'.-')\n",
    "\n",
    "for ax in axs:\n",
    "    ax.set_xlabel('Time [ps]')\n",
    "    \n",
    "axs[0].set_ylabel('x[0] [nm]')\n",
    "axs[1].set_ylabel('y[0] [nm]')\n",
    "axs[2].set_ylabel('z[0] [nm]')\n",
    "\n",
    "fig.tight_layout()"
   ]
  },
  {
   "cell_type": "markdown",
   "id": "531e04bd",
   "metadata": {},
   "source": [
    "### Full simulation with built-in functions"
   ]
  },
  {
   "cell_type": "code",
   "execution_count": null,
   "id": "7605598e",
   "metadata": {
    "scrolled": true
   },
   "outputs": [],
   "source": [
    "filename = \"fcc100a256.txt\"\n",
    "timelength = 12e-12    \n",
    "timestep = 1.5e-14   \n",
    "T = 100\n",
    "\n",
    "lattice = basic.read_file(filename)\n",
    "results = main.make_simulation(filename,T,timelength,timestep,PBC=True,approx=True)\n",
    "time_array,all_x,all_y,all_z,Temp_array,energy_array = results"
   ]
  },
  {
   "cell_type": "code",
   "execution_count": null,
   "id": "a81081a3",
   "metadata": {},
   "outputs": [],
   "source": [
    "dump_time = 5e-12\n",
    "df50 = main.build_results_df(T/2,lattice,results,dump_time)"
   ]
  },
  {
   "cell_type": "code",
   "execution_count": null,
   "id": "1421fb2b",
   "metadata": {},
   "outputs": [],
   "source": [
    "df50.head()"
   ]
  },
  {
   "cell_type": "code",
   "execution_count": null,
   "id": "0eb90b7a",
   "metadata": {},
   "outputs": [],
   "source": [
    "fig,axs = plt.subplots(1,2,figsize=(12,4))\n",
    "\n",
    "for ix,(z0,z0_group) in enumerate(df50.groupby('z0')):\n",
    "    axs[0].plot(z0_group['z0']-df50['z0'].mean(),z0_group['z_mean']-z0_group['z0'],'.')\n",
    "    axs[1].plot(z0_group['z0']-df50['z0'].mean(),z0_group['z_std'],'.')\n",
    "    \n",
    "for ax in axs:\n",
    "    ax.set_xlabel('z-distance from mass center [A°]')\n",
    "axs[0].set_ylabel('displacement from starting position [A°]')\n",
    "axs[0].set_ylabel('oscillation amplitude [A°]')\n",
    "fig.tight_layout()"
   ]
  },
  {
   "cell_type": "code",
   "execution_count": null,
   "id": "d574c6f5",
   "metadata": {},
   "outputs": [],
   "source": [
    "fig,axs = plt.subplots(1,2,figsize=(12,4))\n",
    "\n",
    "for ix,(z0,z0_group) in enumerate(df50.groupby('z0')):\n",
    "    axs[0].errorbar(z0_group['z0'].mean()-df50['z0'].mean(),z0_group['z_mean'].mean()-z0_group['z0'].mean(),\n",
    "                    yerr=z0_group['z_mean'].std(),fmt='.-',capsize=3)\n",
    "    axs[1].errorbar(z0_group['z0'].mean()-df50['z0'].mean(),z0_group['z_std'].mean(),\n",
    "                    yerr=z0_group['z_std'].std(),fmt='o-',capsize=3)\n",
    "    \n",
    "for ax in axs:\n",
    "    ax.set_xlabel('z-distance from mass center [A°]')\n",
    "axs[0].set_ylabel('displacement from starting position [A°]')\n",
    "axs[1].set_ylabel('oscillation amplitude [A°]')\n",
    "fig.tight_layout()"
   ]
  },
  {
   "cell_type": "markdown",
   "id": "384dea8a",
   "metadata": {},
   "source": [
    "### More simulations in a row, saving results"
   ]
  },
  {
   "cell_type": "code",
   "execution_count": 4,
   "id": "13e84764",
   "metadata": {},
   "outputs": [],
   "source": [
    "import json\n",
    "configs = pd.read_json('configs.json')"
   ]
  },
  {
   "cell_type": "code",
   "execution_count": 5,
   "id": "9b2b770b",
   "metadata": {},
   "outputs": [
    {
     "name": "stdout",
     "output_type": "stream",
     "text": [
      "                                                                                         simulation_list\n",
      "0                 {'temperature': 100, 'timestep': 1.5e-14, 'total_time': 2e-11, 'rejected_time': 8e-12}\n",
      "1                   {'temperature': 200, 'timestep': 1e-14, 'total_time': 2e-11, 'rejected_time': 8e-12}\n",
      "2                   {'temperature': 400, 'timestep': 5e-15, 'total_time': 2e-11, 'rejected_time': 8e-12}\n",
      "3  {'temperature': 800, 'timestep': 2.5000000000000004e-15, 'total_time': 2e-11, 'rejected_time': 8e-12}\n"
     ]
    }
   ],
   "source": [
    "print(configs.to_string())"
   ]
  },
  {
   "cell_type": "code",
   "execution_count": 15,
   "id": "8747f657",
   "metadata": {},
   "outputs": [
    {
     "name": "stdout",
     "output_type": "stream",
     "text": [
      "T=100: previous simulation results exist; simulation status: success.\n",
      "T=200: previous simulation results exist; simulation status: success.\n",
      "T=400: previous simulation results exist; simulation status: success.\n",
      "T=800: previous simulation results exist; simulation status: success.\n"
     ]
    }
   ],
   "source": [
    "import os\n",
    "\n",
    "filename = \"fcc100a256.txt\"\n",
    "\n",
    "for config in configs.simulation_list:\n",
    "    temperature = config['temperature']\n",
    "    timestep = config['timestep']\n",
    "    total_time = config['total_time']\n",
    "    rejected_time = config['rejected_time']\n",
    "    lattice = basic.read_file(filename)\n",
    "    if os.path.exists(f'results/results_T{temperature}.xlsx'):\n",
    "        df = pd.read_excel(f'results/results_T{temperature}.xlsx')\n",
    "        status = df.status.unique()\n",
    "        if status[0]=='Success':\n",
    "            print(f'T={temperature}: previous simulation results exist; simulation status: success.')\n",
    "        else: \n",
    "            print(f'T={temperature}: previous simulation results exist; simulation status: fail; new simulation will be executed.')\n",
    "            results = main.make_simulation(filename,temperature,total_time,timestep,PBC=True,approx=True)\n",
    "            df = main.build_results_df(temperature,lattice,results,rejected_time)\n",
    "            df.to_excel(f'results/results_T{temperature}.xlsx')\n",
    "    else:\n",
    "        results = main.make_simulation(filename,temperature,total_time,timestep,PBC=True,approx=True)\n",
    "        df = main.build_results_df(temperature,lattice,results,rejected_time)\n",
    "        df.to_excel(f'results/results_T{temperature}.xlsx')"
   ]
  },
  {
   "cell_type": "markdown",
   "id": "56295e86",
   "metadata": {},
   "source": [
    "### Example plots"
   ]
  },
  {
   "cell_type": "code",
   "execution_count": 16,
   "id": "c71fe9e5",
   "metadata": {},
   "outputs": [],
   "source": [
    "df_tot = []\n",
    "\n",
    "for config in configs.simulation_list:\n",
    "    temperature = config['temperature']\n",
    "    if os.path.exists(f'results/results_T{temperature}.xlsx'):\n",
    "        df = pd.read_excel(f'results/results_T{temperature}.xlsx')\n",
    "        status = df.status.unique()\n",
    "        if status[0]=='Success':\n",
    "            df_tot.append(df)      \n",
    "\n",
    "df_tot = pd.concat(df_tot, axis=0, ignore_index=True)"
   ]
  },
  {
   "cell_type": "code",
   "execution_count": 42,
   "id": "01fe6b5e",
   "metadata": {},
   "outputs": [
    {
     "data": {
      "image/png": "[encoded data removed]",
      "text/plain": [
       "<Figure size 864x288 with 2 Axes>"
      ]
     },
     "metadata": {
      "needs_background": "light"
     },
     "output_type": "display_data"
    }
   ],
   "source": [
    "from matplotlib import cm\n",
    "\n",
    "colors = cm.Reds(np.linspace(0.4,1,len(df_tot.temperature_goal.unique())))\n",
    "\n",
    "fig,axs = plt.subplots(1,2,figsize=(12,4))\n",
    "\n",
    "for ix,(temperature,temperature_df) in enumerate(df_tot.groupby('temperature_mean')):\n",
    "    color = colors[ix]\n",
    "    z0 = temperature_df.groupby('z0').z0.mean() - temperature_df['z0'].mean()\n",
    "    z_displacement = temperature_df.groupby('z0').z_mean.mean() -  temperature_df.groupby('z0').z0.mean()\n",
    "    z_displacement_err = temperature_df.groupby('z0').z_mean.std()\n",
    "    z_amplitude = temperature_df.groupby('z0').z_std.mean()\n",
    "    z_amplitude_err = temperature_df.groupby('z0').z_std.std()\n",
    "    axs[0].errorbar(z0,z_displacement,yerr=z_displacement_err,fmt='.-',color=color,capsize=3,\n",
    "                    label=f'T={temperature:.2f}K')\n",
    "    axs[1].errorbar(z0,z_amplitude,yerr=z_amplitude_err,fmt='.-',color=color,capsize=3,\n",
    "                    label=f'T={temperature:.2f}K')\n",
    "    \n",
    "for ax in axs:\n",
    "    ax.set_xlabel('z-distance from mass center [A°]')\n",
    "    ax.legend()\n",
    "axs[0].set_ylabel('z-displacement from starting position [A°]')\n",
    "axs[1].set_ylabel('z-oscillation amplitude [A°]')\n",
    "fig.tight_layout()"
   ]
  },
  {
   "cell_type": "code",
   "execution_count": 44,
   "id": "7f9e64d0",
   "metadata": {},
   "outputs": [
    {
     "data": {
      "image/png": "[encoded data removed]",
      "text/plain": [
       "<Figure size 864x288 with 2 Axes>"
      ]
     },
     "metadata": {
      "needs_background": "light"
     },
     "output_type": "display_data"
    }
   ],
   "source": [
    "fig,axs = plt.subplots(1,2,figsize=(12,4))\n",
    "\n",
    "for ix,(temperature,temperature_df) in enumerate(df_tot.groupby('temperature_mean')):\n",
    "    color = colors[ix]\n",
    "    x0 = temperature_df.groupby('x0').x0.mean() - temperature_df['x0'].mean()\n",
    "    x_displacement = temperature_df.groupby('x0').x_mean.mean() -  temperature_df.groupby('x0').x0.mean()\n",
    "    x_displacement_err = temperature_df.groupby('x0').x_mean.std()\n",
    "    x_amplitude = temperature_df.groupby('x0').x_std.mean()\n",
    "    x_amplitude_err = temperature_df.groupby('x0').x_std.std()\n",
    "    axs[0].errorbar(x0,x_displacement,yerr=x_displacement_err,fmt='.-',color=color,capsize=3,\n",
    "                    label=f'T={temperature:.2f}K')\n",
    "    axs[1].errorbar(x0,x_amplitude,yerr=x_amplitude_err,fmt='.-',color=color,capsize=3,\n",
    "                    label=f'T={temperature:.2f}K')\n",
    "    \n",
    "for ax in axs:\n",
    "    ax.set_xlabel('x-distance from mass center [A°]')\n",
    "    ax.legend()\n",
    "axs[0].set_ylabel('x-displacement from starting position [A°]')\n",
    "axs[1].set_ylabel('x-oscillation amplitude [A°]')\n",
    "fig.tight_layout()"
   ]
  },
  {
   "cell_type": "markdown",
   "id": "ebc8c0d7",
   "metadata": {},
   "source": [
    "### Test zone - used for quick tests and monkey patch"
   ]
  },
  {
   "cell_type": "code",
   "execution_count": null,
   "id": "a01e1778",
   "metadata": {},
   "outputs": [],
   "source": []
  }
 ],
 "metadata": {
  "kernelspec": {
   "display_name": "Python 3",
   "language": "python",
   "name": "python3"
  },
  "language_info": {
   "codemirror_mode": {
    "name": "ipython",
    "version": 3
   },
   "file_extension": ".py",
   "mimetype": "text/x-python",
   "name": "python",
   "nbconvert_exporter": "python",
   "pygments_lexer": "ipython3",
   "version": "3.8.8"
  }
 },
 "nbformat": 4,
 "nbformat_minor": 5
}

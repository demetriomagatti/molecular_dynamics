{
 "cells": [
  {
   "cell_type": "code",
   "execution_count": 1,
   "id": "3a46bb9e",
   "metadata": {},
   "outputs": [],
   "source": [
    "import numpy as np\n",
    "import pandas as pd\n",
    "import matplotlib.pyplot as plt\n",
    "from tqdm.auto import tqdm\n",
    "import time\n",
    "from functions import basic\n",
    "from functions import interaction\n",
    "from functions import evolution\n",
    "import main\n",
    "%matplotlib inline"
   ]
  },
  {
   "cell_type": "code",
   "execution_count": 2,
   "id": "b3abc354",
   "metadata": {},
   "outputs": [
    {
     "data": {
      "application/javascript": [
       "require([\"codemirror/keymap/sublime\", \"notebook/js/cell\", \"base/js/namespace\"],\n",
       "    function(sublime_keymap, cell, IPython){\n",
       "        cell.Cell.options_default.cm_config.keyMap = 'sublime';\n",
       "        var cells = IPython.notebook.get_cells();\n",
       "        for(var cl=0; cl< cells.length ; cl++){\n",
       "            cells[cl].code_mirror.setOption('keyMap', 'sublime');\n",
       "        }\n",
       "    }\n",
       ");\n"
      ],
      "text/plain": [
       "<IPython.core.display.Javascript object>"
      ]
     },
     "metadata": {},
     "output_type": "display_data"
    }
   ],
   "source": [
    "%%javascript\n",
    "require([\"codemirror/keymap/sublime\", \"notebook/js/cell\", \"base/js/namespace\"],\n",
    "    function(sublime_keymap, cell, IPython){\n",
    "        cell.Cell.options_default.cm_config.keyMap = 'sublime';\n",
    "        var cells = IPython.notebook.get_cells();\n",
    "        for(var cl=0; cl< cells.length ; cl++){\n",
    "            cells[cl].code_mirror.setOption('keyMap', 'sublime');\n",
    "        }\n",
    "    }\n",
    ");"
   ]
  },
  {
   "cell_type": "code",
   "execution_count": null,
   "id": "0b87676e",
   "metadata": {},
   "outputs": [],
   "source": [
    "# reading input file\n",
    "filename = \"fcc100a256.txt\"\n",
    "lattice = basic.read_file(filename)"
   ]
  },
  {
   "cell_type": "code",
   "execution_count": null,
   "id": "a2563122",
   "metadata": {},
   "outputs": [],
   "source": [
    "# computing ditances, finding neighbours\n",
    "\n",
    "# no PBC test\n",
    "start = time.process_time()\n",
    "for i in range(100):\n",
    "    mask,distances = basic.find_neighbours(*lattice)\n",
    "print(f'no PBC - 100 iterations; computing time: {time.process_time() - start :.2f} seconds')\n",
    "\n",
    "start = time.process_time()\n",
    "for i in range(100):\n",
    "    mask,distances = basic.find_neighbours(*lattice, PBC=True)\n",
    "print(f'PBC - 100 iterations; computing time: {time.process_time() - start :.2f} seconds')"
   ]
  },
  {
   "cell_type": "code",
   "execution_count": null,
   "id": "da0902a2",
   "metadata": {},
   "outputs": [],
   "source": [
    "# calculating potential energy\n",
    "mask,distances = basic.find_neighbours(*lattice)\n",
    "\n",
    "# approximate LJ\n",
    "start = time.process_time()\n",
    "for i in range(100):\n",
    "    LJA = interaction.lennard_jones_approx(distances)\n",
    "print(f'approximate LJ - 100 iterations; computing time: {time.process_time() - start :.2f} seconds')\n",
    "\n",
    "# true LJ\n",
    "start = time.process_time()\n",
    "for i in range(100):\n",
    "    LJ = interaction.lennard_jones(distances)\n",
    "print(f'true LJ - 100 iterations; computing time: {time.process_time() - start :.2f} seconds')\n",
    "\n",
    "print('')\n",
    "print(f'approximate LJ: {LJA:.2f}')\n",
    "print(f'true LJ: {LJ:.2f}')"
   ]
  },
  {
   "cell_type": "code",
   "execution_count": null,
   "id": "96614b73",
   "metadata": {},
   "outputs": [],
   "source": [
    "# calculating forces\n",
    "\n",
    "# approximate LJ\n",
    "start = time.process_time()\n",
    "for i in range(100):\n",
    "    FxA,FyA,FzA = interaction.calc_force_approx(*lattice,distances,PBC=True)\n",
    "print(f'approximate LJ - 100 iterations; computing time: {time.process_time() - start :.2f} seconds')\n",
    "\n",
    "# approximate LJ\n",
    "start = time.process_time()\n",
    "for i in range(100):\n",
    "    Fx,Fy,Fz = interaction.calc_force(*lattice,distances,PBC=True)\n",
    "print(f'true LJ - 100 iterations; computing time: {time.process_time() - start :.2f} seconds')\n",
    "\n",
    "print('')\n",
    "print(f'approximate LJ, force on 0-th atom: {FxA[1]:.2f},{FyA[1]:.2f},{FzA[1]:.2f}')\n",
    "print(f'true LJ, force on 0-th atom: {Fx[1]:.2f},{Fy[1]:.2f},{Fz[1]:.2f}')"
   ]
  },
  {
   "cell_type": "code",
   "execution_count": null,
   "id": "230f0eac",
   "metadata": {},
   "outputs": [],
   "source": [
    "n_atoms,sx,sy,sz,x,y,z = lattice\n",
    "\n",
    "fig,axs = plt.subplots(1,3,sharey=True,figsize=(12,4))\n",
    "\n",
    "for i in range(255):\n",
    "    axs[0].plot(x[i],FxA[i],'.')\n",
    "    axs[1].plot(y[i],FyA[i],'.')\n",
    "    axs[2].plot(z[i],FzA[i],'.')\n",
    "\n",
    "for i in range(3):\n",
    "    axs[i].grid()\n",
    "\n",
    "axs[0].set_xlabel('x')\n",
    "axs[0].set_ylabel('Fx')\n",
    "axs[1].set_xlabel('y')\n",
    "axs[1].set_ylabel('Fy')\n",
    "axs[2].set_xlabel('z')\n",
    "axs[2].set_ylabel('Fz')\n",
    "\n",
    "fig.suptitle('Force components - perfect lattice - approximate LJ - PBC')\n",
    "plt.show()"
   ]
  },
  {
   "cell_type": "code",
   "execution_count": null,
   "id": "7179ce0b",
   "metadata": {},
   "outputs": [],
   "source": [
    "fig,axs = plt.subplots(1,3,sharey=True,figsize=(12,4))\n",
    "\n",
    "for i in range(255):\n",
    "    axs[0].plot(x[i],Fx[i],'.')\n",
    "    axs[1].plot(y[i],Fy[i],'.')\n",
    "    axs[2].plot(z[i],Fz[i],'.')\n",
    "\n",
    "for i in range(3):\n",
    "    axs[i].grid()\n",
    "\n",
    "axs[0].set_xlabel('x')\n",
    "axs[0].set_ylabel('Fx')\n",
    "axs[1].set_xlabel('y')\n",
    "axs[1].set_ylabel('Fy')\n",
    "axs[2].set_xlabel('z')\n",
    "axs[2].set_ylabel('Fz')\n",
    "\n",
    "fig.suptitle('Force components - perfect lattice - true LJ - PBC')\n",
    "plt.show()"
   ]
  },
  {
   "cell_type": "code",
   "execution_count": null,
   "id": "c4d612d3",
   "metadata": {},
   "outputs": [],
   "source": [
    "# initializing speed\n",
    "m_ag = 108*1.66e-27/16\n",
    "kb = 1/11603\n",
    "T = 100\n",
    "\n",
    "start = time.process_time()\n",
    "vx,vy,vz = basic.initialize_speed(n_atoms,x,y,z,T,remove_translation=True)\n",
    "print(f'speed initialization; computing time: {time.process_time() - start :.3f} seconds\\n')\n",
    "\n",
    "v2 = vx**2 + vy**2  + vz**2\n",
    "Ekin = 0.5*m_ag*np.sum(v2)\n",
    "Tkin = 2*Ekin/(3*n_atoms*kb)  \n",
    "\n",
    "print('translation removal check:')\n",
    "print(f'    mean vx: {np.mean(vx)}')\n",
    "print(f'    mean vy: {np.mean(vy)}')\n",
    "print(f'    mean vz: {np.mean(vz)}\\n')\n",
    "print(f'Set temperature: {T:.2f}K; real temperature: {Tkin:.2f}K')"
   ]
  },
  {
   "cell_type": "markdown",
   "id": "2ca36e4d",
   "metadata": {},
   "source": [
    "### Full simulation using built-in function"
   ]
  },
  {
   "cell_type": "markdown",
   "id": "b156761d",
   "metadata": {},
   "source": [
    "#### No PBC, no approx"
   ]
  },
  {
   "cell_type": "code",
   "execution_count": null,
   "id": "e144ce05",
   "metadata": {},
   "outputs": [],
   "source": [
    "filename = \"fcc100a256.txt\"\n",
    "timelength = 50e-12    \n",
    "timestep = 1.5e-14   \n",
    "T = 50\n",
    "\n",
    "results = main.make_simulation(filename,T,timelength,timestep)\n",
    "time_array,all_x,all_y,all_z,Temp_array,energy_array = results"
   ]
  },
  {
   "cell_type": "code",
   "execution_count": null,
   "id": "489aa56f",
   "metadata": {},
   "outputs": [],
   "source": [
    "print(f'DeltaE/E: {np.std(energy_array[2000:])/np.mean(energy_array[2000:])}')"
   ]
  },
  {
   "cell_type": "code",
   "execution_count": null,
   "id": "ca55e264",
   "metadata": {},
   "outputs": [],
   "source": [
    "fig,axs = plt.subplots(1,2,figsize=(12,4))\n",
    "\n",
    "axs[0].plot(time_array*1e12,Temp_array,'.-')\n",
    "axs[0].plot(time_array[2000:]*1e12,Temp_array[2000:],'.-')\n",
    "axs[1].plot(time_array*1e12,energy_array,'.-')\n",
    "axs[1].plot(time_array[2000:]*1e12,energy_array[2000:],'.-')\n",
    "\n",
    "for ax in axs:\n",
    "    ax.set_xlabel('Time [ps]')\n",
    "\n",
    "axs[0].set_ylabel('Temperature [K]')\n",
    "axs[1].set_ylabel('Energy [eV]')\n",
    "\n",
    "fig.tight_layout()"
   ]
  },
  {
   "cell_type": "code",
   "execution_count": null,
   "id": "d6dc1c73",
   "metadata": {},
   "outputs": [],
   "source": [
    "fig,axs = plt.subplots(1,3,sharey=True,figsize=(12,4))\n",
    "\n",
    "axs[0].plot(time_array*1e12,all_x[0],'.-')\n",
    "axs[1].plot(time_array*1e12,all_y[0],'.-')\n",
    "axs[2].plot(time_array*1e12,all_z[0],'.-')\n",
    "\n",
    "for ax in axs:\n",
    "    ax.set_xlabel('Time [ps]')\n",
    "    \n",
    "axs[0].set_ylabel('x[0] [nm]')\n",
    "axs[1].set_ylabel('y[0] [nm]')\n",
    "axs[2].set_ylabel('z[0] [nm]')\n",
    "\n",
    "fig.tight_layout()"
   ]
  },
  {
   "cell_type": "markdown",
   "id": "457512e0",
   "metadata": {},
   "source": [
    "#### PBC, approx"
   ]
  },
  {
   "cell_type": "code",
   "execution_count": null,
   "id": "d5dd004d",
   "metadata": {},
   "outputs": [],
   "source": [
    "filename = \"fcc100a256.txt\"\n",
    "timelength = 40e-12    \n",
    "timestep = 1.5e-14   \n",
    "T = 100\n",
    "\n",
    "results = main.make_simulation(filename,T,timelength,timestep,PBC=True,approx=True)\n",
    "time_array,all_x,all_y,all_z,Temp_array,energy_array = results"
   ]
  },
  {
   "cell_type": "code",
   "execution_count": null,
   "id": "94fe7288",
   "metadata": {},
   "outputs": [],
   "source": [
    "print(f'DeltaE/E: {np.std(energy_array[400:])/np.mean(energy_array[400:])}')"
   ]
  },
  {
   "cell_type": "code",
   "execution_count": null,
   "id": "57b80ba3",
   "metadata": {},
   "outputs": [],
   "source": [
    "fig,axs = plt.subplots(1,2,figsize=(12,4))\n",
    "\n",
    "axs[0].plot(time_array*1e12,Temp_array,'.-')\n",
    "axs[0].plot(time_array[400:]*1e12,Temp_array[400:],'.-')\n",
    "axs[1].plot(time_array*1e12,energy_array,'.-')\n",
    "axs[1].plot(time_array[400:]*1e12,energy_array[400:],'.-')\n",
    "\n",
    "for ax in axs:\n",
    "    ax.set_xlabel('Time [ps]')\n",
    "\n",
    "axs[0].set_ylabel('Temperature [K]')\n",
    "axs[1].set_ylabel('Energy [eV]')\n",
    "\n",
    "fig.tight_layout()"
   ]
  },
  {
   "cell_type": "code",
   "execution_count": null,
   "id": "4ed61371",
   "metadata": {},
   "outputs": [],
   "source": [
    "fig,axs = plt.subplots(1,3,sharey=True,figsize=(12,4))\n",
    "\n",
    "axs[0].plot(time_array*1e12,all_x[0],'.-')\n",
    "axs[1].plot(time_array*1e12,all_y[0],'.-')\n",
    "axs[2].plot(time_array*1e12,all_z[0],'.-')\n",
    "\n",
    "for ax in axs:\n",
    "    ax.set_xlabel('Time [ps]')\n",
    "    \n",
    "axs[0].set_ylabel('x[0] [nm]')\n",
    "axs[1].set_ylabel('y[0] [nm]')\n",
    "axs[2].set_ylabel('z[0] [nm]')\n",
    "\n",
    "fig.tight_layout()"
   ]
  },
  {
   "cell_type": "markdown",
   "id": "531e04bd",
   "metadata": {},
   "source": [
    "### Test zone - used for quick tests and monkey patch"
   ]
  },
  {
   "cell_type": "code",
   "execution_count": 3,
   "id": "7605598e",
   "metadata": {
    "scrolled": true
   },
   "outputs": [
    {
     "name": "stdout",
     "output_type": "stream",
     "text": [
      "Translation removal check:\n",
      "    mean vx: 4.57763671875e-05\n",
      "    mean vy: 8.0108642578125e-05\n",
      "    mean vz: 5.14984130859375e-05\n",
      "\n",
      "Set temperature: 100.00K; real temperature: 100.00K \n",
      "\n"
     ]
    },
    {
     "name": "stderr",
     "output_type": "stream",
     "text": [
      "/home/demetrio/git_repo/molecular_dynamics/functions/interaction.py:89: RuntimeWarning: invalid value encountered in multiply\n",
      "  Fx_rp = 24*epsilon*( 2*sigma**12*(mask_rp*distances)**(-14) - sigma**6*(mask_rp*distances)**(-8) )*(mask_rp*x_distances)\n",
      "/home/demetrio/git_repo/molecular_dynamics/functions/interaction.py:89: RuntimeWarning: divide by zero encountered in power\n",
      "  Fx_rp = 24*epsilon*( 2*sigma**12*(mask_rp*distances)**(-14) - sigma**6*(mask_rp*distances)**(-8) )*(mask_rp*x_distances)\n",
      "/home/demetrio/git_repo/molecular_dynamics/functions/interaction.py:89: RuntimeWarning: invalid value encountered in subtract\n",
      "  Fx_rp = 24*epsilon*( 2*sigma**12*(mask_rp*distances)**(-14) - sigma**6*(mask_rp*distances)**(-8) )*(mask_rp*x_distances)\n",
      "/home/demetrio/git_repo/molecular_dynamics/functions/interaction.py:90: RuntimeWarning: invalid value encountered in multiply\n",
      "  Fx_rc = - 2*(mask_rc*x_distances)*( 0.5*Bpoli7/(mask_rc*distances) + Cpoli7 + 1.5*Dpoli7*(mask_rc*distances) + 2*Epoli7*(mask_rc*distances)**2 + 2.5*Fpoli7*(mask_rc*distances)**3 + 3*Gpoli7*(mask_rc*distances)**4 + 3.5*Hpoli7*(mask_rc*distances)**5)\n",
      "/home/demetrio/git_repo/molecular_dynamics/functions/interaction.py:90: RuntimeWarning: divide by zero encountered in true_divide\n",
      "  Fx_rc = - 2*(mask_rc*x_distances)*( 0.5*Bpoli7/(mask_rc*distances) + Cpoli7 + 1.5*Dpoli7*(mask_rc*distances) + 2*Epoli7*(mask_rc*distances)**2 + 2.5*Fpoli7*(mask_rc*distances)**3 + 3*Gpoli7*(mask_rc*distances)**4 + 3.5*Hpoli7*(mask_rc*distances)**5)\n",
      "/home/demetrio/git_repo/molecular_dynamics/functions/interaction.py:94: RuntimeWarning: invalid value encountered in multiply\n",
      "  Fy_rp = 24*epsilon*( 2*sigma**12*(mask_rp*distances)**(-14) - sigma**6*(mask_rp*distances)**(-8) )*(mask_rp*y_distances)\n",
      "/home/demetrio/git_repo/molecular_dynamics/functions/interaction.py:94: RuntimeWarning: divide by zero encountered in power\n",
      "  Fy_rp = 24*epsilon*( 2*sigma**12*(mask_rp*distances)**(-14) - sigma**6*(mask_rp*distances)**(-8) )*(mask_rp*y_distances)\n",
      "/home/demetrio/git_repo/molecular_dynamics/functions/interaction.py:94: RuntimeWarning: invalid value encountered in subtract\n",
      "  Fy_rp = 24*epsilon*( 2*sigma**12*(mask_rp*distances)**(-14) - sigma**6*(mask_rp*distances)**(-8) )*(mask_rp*y_distances)\n",
      "/home/demetrio/git_repo/molecular_dynamics/functions/interaction.py:95: RuntimeWarning: invalid value encountered in multiply\n",
      "  Fy_rc = - 2*(mask_rc*y_distances)*( 0.5*Bpoli7/(mask_rc*distances) + Cpoli7 + 1.5*Dpoli7*(mask_rc*distances) + 2*Epoli7*(mask_rc*distances)**2 + 2.5*Fpoli7*(mask_rc*distances)**3 + 3*Gpoli7*(mask_rc*distances)**4 + 3.5*Hpoli7*(mask_rc*distances)**5)\n",
      "/home/demetrio/git_repo/molecular_dynamics/functions/interaction.py:95: RuntimeWarning: divide by zero encountered in true_divide\n",
      "  Fy_rc = - 2*(mask_rc*y_distances)*( 0.5*Bpoli7/(mask_rc*distances) + Cpoli7 + 1.5*Dpoli7*(mask_rc*distances) + 2*Epoli7*(mask_rc*distances)**2 + 2.5*Fpoli7*(mask_rc*distances)**3 + 3*Gpoli7*(mask_rc*distances)**4 + 3.5*Hpoli7*(mask_rc*distances)**5)\n",
      "/home/demetrio/git_repo/molecular_dynamics/functions/interaction.py:99: RuntimeWarning: invalid value encountered in multiply\n",
      "  Fz_rp = 24*epsilon*( 2*sigma**12*(mask_rp*distances)**(-14) - sigma**6*(mask_rp*distances)**(-8) )*(mask_rp*z_distances)\n",
      "/home/demetrio/git_repo/molecular_dynamics/functions/interaction.py:99: RuntimeWarning: divide by zero encountered in power\n",
      "  Fz_rp = 24*epsilon*( 2*sigma**12*(mask_rp*distances)**(-14) - sigma**6*(mask_rp*distances)**(-8) )*(mask_rp*z_distances)\n",
      "/home/demetrio/git_repo/molecular_dynamics/functions/interaction.py:99: RuntimeWarning: invalid value encountered in subtract\n",
      "  Fz_rp = 24*epsilon*( 2*sigma**12*(mask_rp*distances)**(-14) - sigma**6*(mask_rp*distances)**(-8) )*(mask_rp*z_distances)\n",
      "/home/demetrio/git_repo/molecular_dynamics/functions/interaction.py:100: RuntimeWarning: invalid value encountered in multiply\n",
      "  Fz_rc = - 2*(mask_rc*z_distances)*( 0.5*Bpoli7/(mask_rc*distances) + Cpoli7 + 1.5*Dpoli7*(mask_rc*distances) + 2*Epoli7*(mask_rc*distances)**2 + 2.5*Fpoli7*(mask_rc*distances)**3 + 3*Gpoli7*(mask_rc*distances)**4 + 3.5*Hpoli7*(mask_rc*distances)**5)\n",
      "/home/demetrio/git_repo/molecular_dynamics/functions/interaction.py:100: RuntimeWarning: divide by zero encountered in true_divide\n",
      "  Fz_rc = - 2*(mask_rc*z_distances)*( 0.5*Bpoli7/(mask_rc*distances) + Cpoli7 + 1.5*Dpoli7*(mask_rc*distances) + 2*Epoli7*(mask_rc*distances)**2 + 2.5*Fpoli7*(mask_rc*distances)**3 + 3*Gpoli7*(mask_rc*distances)**4 + 3.5*Hpoli7*(mask_rc*distances)**5)\n"
     ]
    },
    {
     "data": {
      "application/vnd.jupyter.widget-view+json": {
       "model_id": "b6e95e1f83a942f282f9d89eb8b0d809",
       "version_major": 2,
       "version_minor": 0
      },
      "text/plain": [
       "  0%|          | 0/800 [00:00<?, ?it/s]"
      ]
     },
     "metadata": {},
     "output_type": "display_data"
    },
    {
     "name": "stderr",
     "output_type": "stream",
     "text": [
      "/home/demetrio/git_repo/molecular_dynamics/functions/interaction.py:41: RuntimeWarning: divide by zero encountered in true_divide\n",
      "  Epot_rp = 4*epsilon*((sigma/(mask_rp*distances))**12 - (sigma/(mask_rp*distances))**6)\n",
      "/home/demetrio/git_repo/molecular_dynamics/functions/interaction.py:41: RuntimeWarning: invalid value encountered in subtract\n",
      "  Epot_rp = 4*epsilon*((sigma/(mask_rp*distances))**12 - (sigma/(mask_rp*distances))**6)\n",
      "/home/demetrio/git_repo/molecular_dynamics/functions/interaction.py:42: RuntimeWarning: invalid value encountered in multiply\n",
      "  Epot_rc = Apoli7*mask_rc + Bpoli7*mask_rc*distances + Cpoli7*((mask_rc*distances)**2) + Dpoli7*((mask_rc*distances)**3) + Epoli7*((mask_rc*distances)**4) + Fpoli7*((mask_rc*distances)**5) + Gpoli7*((mask_rc*distances)**6) + Hpoli7*((mask_rc*distances)**7)\n"
     ]
    }
   ],
   "source": [
    "filename = \"fcc100a256.txt\"\n",
    "timelength = 12e-12    \n",
    "timestep = 1.5e-14   \n",
    "T = 100\n",
    "\n",
    "lattice = basic.read_file(filename)\n",
    "results = main.make_simulation(filename,T,timelength,timestep,PBC=True,approx=True)\n",
    "time_array,all_x,all_y,all_z,Temp_array,energy_array = results"
   ]
  },
  {
   "cell_type": "code",
   "execution_count": null,
   "id": "bd706f2e",
   "metadata": {
    "scrolled": false
   },
   "outputs": [],
   "source": [
    "def build_results_df(temperature,lattice,results,dump_time):\n",
    "    df = pd.DataFrame()\n",
    "    dump_index = np.argmin(np.abs(results[0] - dump_time))\n",
    "    df['x0'] = lattice[4]\n",
    "    df['y0'] = lattice[5]\n",
    "    df['z0'] = lattice[6]\n",
    "    df['simulation_time'] = results[0][-1]\n",
    "    df['rejected_time'] = results[0][dump_index]\n",
    "    df['timestep'] = results[0][1]-results[0][0]\n",
    "    # temperature and energy\n",
    "    df['temperature_goal'] = temperature\n",
    "    df['temperature_mean'] = np.mean(results[4][dump_index:])\n",
    "    df['temperature_std'] = np.std(results[4][dump_index:])\n",
    "    df['energy_mean'] = np.mean(results[5][dump_index:])\n",
    "    df['energy_std'] = np.std(results[5][dump_index:])\n",
    "    if np.abs(np.std(results[5][dump_index:])/np.mean(results[5][dump_index:]))<1e-5:\n",
    "        df['status'] = 'Success'\n",
    "    else:\n",
    "        df['status'] = 'Fail'\n",
    "    # positions\n",
    "    all_x = np.transpose(np.transpose(results[1])[dump_index:])\n",
    "    all_y = np.transpose(np.transpose(results[2])[dump_index:])\n",
    "    all_z = np.transpose(np.transpose(results[3])[dump_index:])\n",
    "    df['x_mean'] = np.mean(all_x,axis=1)\n",
    "    df['x_std'] = np.std(all_x,axis=1)\n",
    "    df['y_mean'] = np.mean(all_y,axis=1)\n",
    "    df['y_std'] = np.std(all_y,axis=1)\n",
    "    df['z_mean'] = np.mean(all_z,axis=1)\n",
    "    df['z_std'] = np.std(all_z,axis=1)\n",
    "    return df"
   ]
  },
  {
   "cell_type": "code",
   "execution_count": 4,
   "id": "e96d31d3",
   "metadata": {},
   "outputs": [],
   "source": [
    "dump_time = 5e-12\n",
    "df50 = main.build_results_df(T/2,lattice,results,dump_time)"
   ]
  },
  {
   "cell_type": "code",
   "execution_count": 5,
   "id": "9bc7c246",
   "metadata": {},
   "outputs": [
    {
     "data": {
      "text/html": [
       "<div>\n",
       "<style scoped>\n",
       "    .dataframe tbody tr th:only-of-type {\n",
       "        vertical-align: middle;\n",
       "    }\n",
       "\n",
       "    .dataframe tbody tr th {\n",
       "        vertical-align: top;\n",
       "    }\n",
       "\n",
       "    .dataframe thead th {\n",
       "        text-align: right;\n",
       "    }\n",
       "</style>\n",
       "<table border=\"1\" class=\"dataframe\">\n",
       "  <thead>\n",
       "    <tr style=\"text-align: right;\">\n",
       "      <th></th>\n",
       "      <th>x0</th>\n",
       "      <th>y0</th>\n",
       "      <th>z0</th>\n",
       "      <th>simulation_time</th>\n",
       "      <th>rejected_time</th>\n",
       "      <th>timestep</th>\n",
       "      <th>temperature_goal</th>\n",
       "      <th>temperature_mean</th>\n",
       "      <th>temperature_std</th>\n",
       "      <th>energy_mean</th>\n",
       "      <th>energy_std</th>\n",
       "      <th>status</th>\n",
       "      <th>x_mean</th>\n",
       "      <th>x_std</th>\n",
       "      <th>y_mean</th>\n",
       "      <th>y_std</th>\n",
       "      <th>z_mean</th>\n",
       "      <th>z_std</th>\n",
       "    </tr>\n",
       "  </thead>\n",
       "  <tbody>\n",
       "    <tr>\n",
       "      <th>0</th>\n",
       "      <td>2.0802</td>\n",
       "      <td>2.0802</td>\n",
       "      <td>0.0</td>\n",
       "      <td>1.200000e-11</td>\n",
       "      <td>4.995000e-12</td>\n",
       "      <td>1.500000e-14</td>\n",
       "      <td>50.0</td>\n",
       "      <td>50.820402</td>\n",
       "      <td>2.111911</td>\n",
       "      <td>-540.714454</td>\n",
       "      <td>0.004501</td>\n",
       "      <td>Success</td>\n",
       "      <td>2.078892</td>\n",
       "      <td>0.027653</td>\n",
       "      <td>2.081058</td>\n",
       "      <td>0.024886</td>\n",
       "      <td>-0.031823</td>\n",
       "      <td>0.037082</td>\n",
       "    </tr>\n",
       "    <tr>\n",
       "      <th>1</th>\n",
       "      <td>0.0000</td>\n",
       "      <td>0.0000</td>\n",
       "      <td>0.0</td>\n",
       "      <td>1.200000e-11</td>\n",
       "      <td>4.995000e-12</td>\n",
       "      <td>1.500000e-14</td>\n",
       "      <td>50.0</td>\n",
       "      <td>50.820402</td>\n",
       "      <td>2.111911</td>\n",
       "      <td>-540.714454</td>\n",
       "      <td>0.004501</td>\n",
       "      <td>Success</td>\n",
       "      <td>0.000288</td>\n",
       "      <td>0.027195</td>\n",
       "      <td>0.000079</td>\n",
       "      <td>0.034708</td>\n",
       "      <td>-0.032761</td>\n",
       "      <td>0.036185</td>\n",
       "    </tr>\n",
       "    <tr>\n",
       "      <th>2</th>\n",
       "      <td>0.0000</td>\n",
       "      <td>4.1604</td>\n",
       "      <td>0.0</td>\n",
       "      <td>1.200000e-11</td>\n",
       "      <td>4.995000e-12</td>\n",
       "      <td>1.500000e-14</td>\n",
       "      <td>50.0</td>\n",
       "      <td>50.820402</td>\n",
       "      <td>2.111911</td>\n",
       "      <td>-540.714454</td>\n",
       "      <td>0.004501</td>\n",
       "      <td>Success</td>\n",
       "      <td>-0.000538</td>\n",
       "      <td>0.025515</td>\n",
       "      <td>4.161770</td>\n",
       "      <td>0.035470</td>\n",
       "      <td>-0.032200</td>\n",
       "      <td>0.040454</td>\n",
       "    </tr>\n",
       "    <tr>\n",
       "      <th>3</th>\n",
       "      <td>2.0802</td>\n",
       "      <td>6.2406</td>\n",
       "      <td>0.0</td>\n",
       "      <td>1.200000e-11</td>\n",
       "      <td>4.995000e-12</td>\n",
       "      <td>1.500000e-14</td>\n",
       "      <td>50.0</td>\n",
       "      <td>50.820402</td>\n",
       "      <td>2.111911</td>\n",
       "      <td>-540.714454</td>\n",
       "      <td>0.004501</td>\n",
       "      <td>Success</td>\n",
       "      <td>2.078726</td>\n",
       "      <td>0.034742</td>\n",
       "      <td>6.240953</td>\n",
       "      <td>0.030543</td>\n",
       "      <td>-0.031931</td>\n",
       "      <td>0.033348</td>\n",
       "    </tr>\n",
       "    <tr>\n",
       "      <th>4</th>\n",
       "      <td>0.0000</td>\n",
       "      <td>8.3208</td>\n",
       "      <td>0.0</td>\n",
       "      <td>1.200000e-11</td>\n",
       "      <td>4.995000e-12</td>\n",
       "      <td>1.500000e-14</td>\n",
       "      <td>50.0</td>\n",
       "      <td>50.820402</td>\n",
       "      <td>2.111911</td>\n",
       "      <td>-540.714454</td>\n",
       "      <td>0.004501</td>\n",
       "      <td>Success</td>\n",
       "      <td>-0.000550</td>\n",
       "      <td>0.026570</td>\n",
       "      <td>8.321477</td>\n",
       "      <td>0.037038</td>\n",
       "      <td>-0.031466</td>\n",
       "      <td>0.038595</td>\n",
       "    </tr>\n",
       "  </tbody>\n",
       "</table>\n",
       "</div>"
      ],
      "text/plain": [
       "       x0      y0   z0  simulation_time  rejected_time      timestep  \\\n",
       "0  2.0802  2.0802  0.0     1.200000e-11   4.995000e-12  1.500000e-14   \n",
       "1  0.0000  0.0000  0.0     1.200000e-11   4.995000e-12  1.500000e-14   \n",
       "2  0.0000  4.1604  0.0     1.200000e-11   4.995000e-12  1.500000e-14   \n",
       "3  2.0802  6.2406  0.0     1.200000e-11   4.995000e-12  1.500000e-14   \n",
       "4  0.0000  8.3208  0.0     1.200000e-11   4.995000e-12  1.500000e-14   \n",
       "\n",
       "   temperature_goal  temperature_mean  temperature_std  energy_mean  \\\n",
       "0              50.0         50.820402         2.111911  -540.714454   \n",
       "1              50.0         50.820402         2.111911  -540.714454   \n",
       "2              50.0         50.820402         2.111911  -540.714454   \n",
       "3              50.0         50.820402         2.111911  -540.714454   \n",
       "4              50.0         50.820402         2.111911  -540.714454   \n",
       "\n",
       "   energy_std   status    x_mean     x_std    y_mean     y_std    z_mean  \\\n",
       "0    0.004501  Success  2.078892  0.027653  2.081058  0.024886 -0.031823   \n",
       "1    0.004501  Success  0.000288  0.027195  0.000079  0.034708 -0.032761   \n",
       "2    0.004501  Success -0.000538  0.025515  4.161770  0.035470 -0.032200   \n",
       "3    0.004501  Success  2.078726  0.034742  6.240953  0.030543 -0.031931   \n",
       "4    0.004501  Success -0.000550  0.026570  8.321477  0.037038 -0.031466   \n",
       "\n",
       "      z_std  \n",
       "0  0.037082  \n",
       "1  0.036185  \n",
       "2  0.040454  \n",
       "3  0.033348  \n",
       "4  0.038595  "
      ]
     },
     "execution_count": 5,
     "metadata": {},
     "output_type": "execute_result"
    }
   ],
   "source": [
    "df50.head()"
   ]
  },
  {
   "cell_type": "code",
   "execution_count": 6,
   "id": "71711735",
   "metadata": {},
   "outputs": [
    {
     "data": {
      "image/png": "[encoded data removed]",
      "text/plain": [
       "<Figure size 864x288 with 2 Axes>"
      ]
     },
     "metadata": {
      "needs_background": "light"
     },
     "output_type": "display_data"
    }
   ],
   "source": [
    "fig,axs = plt.subplots(1,2,figsize=(12,4))\n",
    "\n",
    "for ix,(z0,z0_group) in enumerate(df50.groupby('z0')):\n",
    "    axs[0].plot(z0_group['z0']-df50['z0'].mean(),z0_group['z_mean']-z0_group['z0'],'.')\n",
    "    axs[1].plot(z0_group['z0']-df50['z0'].mean(),z0_group['z_std'],'.')\n",
    "    \n",
    "for ax in axs:\n",
    "    ax.set_xlabel('z-distance from mass center [A°]')\n",
    "axs[0].set_ylabel('displacement from starting position [A°]')\n",
    "axs[0].set_ylabel('oscillation amplitude [A°]')\n",
    "fig.tight_layout()"
   ]
  },
  {
   "cell_type": "code",
   "execution_count": 7,
   "id": "e4fd7139",
   "metadata": {},
   "outputs": [
    {
     "data": {
      "image/png": "[encoded data removed]",
      "text/plain": [
       "<Figure size 864x288 with 2 Axes>"
      ]
     },
     "metadata": {
      "needs_background": "light"
     },
     "output_type": "display_data"
    }
   ],
   "source": [
    "fig,axs = plt.subplots(1,2,figsize=(12,4))\n",
    "\n",
    "for ix,(z0,z0_group) in enumerate(df50.groupby('z0')):\n",
    "    axs[0].errorbar(z0_group['z0'].mean()-df50['z0'].mean(),z0_group['z_mean'].mean()-z0_group['z0'].mean(),\n",
    "                    yerr=z0_group['z_mean'].std(),fmt='.-',capsize=3)\n",
    "    axs[1].errorbar(z0_group['z0'].mean()-df50['z0'].mean(),z0_group['z_std'].mean(),\n",
    "                    yerr=z0_group['z_std'].std(),fmt='.-',capsize=3)\n",
    "    \n",
    "for ax in axs:\n",
    "    ax.set_xlabel('z-distance from mass center [A°]')\n",
    "axs[0].set_ylabel('displacement from starting position [A°]')\n",
    "axs[1].set_ylabel('oscillation amplitude [A°]')\n",
    "fig.tight_layout()"
   ]
  },
  {
   "cell_type": "code",
   "execution_count": null,
   "id": "abbf5610",
   "metadata": {},
   "outputs": [],
   "source": []
  },
  {
   "cell_type": "code",
   "execution_count": null,
   "id": "0b6613b3",
   "metadata": {},
   "outputs": [],
   "source": []
  },
  {
   "cell_type": "code",
   "execution_count": null,
   "id": "f9141bac",
   "metadata": {},
   "outputs": [],
   "source": []
  }
 ],
 "metadata": {
  "kernelspec": {
   "display_name": "Python 3",
   "language": "python",
   "name": "python3"
  },
  "language_info": {
   "codemirror_mode": {
    "name": "ipython",
    "version": 3
   },
   "file_extension": ".py",
   "mimetype": "text/x-python",
   "name": "python",
   "nbconvert_exporter": "python",
   "pygments_lexer": "ipython3",
   "version": "3.8.8"
  }
 },
 "nbformat": 4,
 "nbformat_minor": 5
}

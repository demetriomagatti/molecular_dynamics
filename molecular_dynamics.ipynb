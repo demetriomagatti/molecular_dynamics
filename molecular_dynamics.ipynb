{
 "cells": [
  {
   "cell_type": "code",
   "execution_count": 1,
   "id": "3a46bb9e",
   "metadata": {},
   "outputs": [],
   "source": [
    "import numpy as np\n",
    "import pandas as pd\n",
    "from tqdm.auto import tqdm\n",
    "import time\n",
    "from functions import basic\n",
    "from functions import interaction"
   ]
  },
  {
   "cell_type": "code",
   "execution_count": 2,
   "id": "64742a81",
   "metadata": {},
   "outputs": [
    {
     "data": {
      "application/javascript": [
       "require([\"codemirror/keymap/sublime\", \"notebook/js/cell\", \"base/js/namespace\"],\n",
       "    function(sublime_keymap, cell, IPython){\n",
       "        cell.Cell.options_default.cm_config.keyMap = 'sublime';\n",
       "        var cells = IPython.notebook.get_cells();\n",
       "        for(var cl=0; cl< cells.length ; cl++){\n",
       "            cells[cl].code_mirror.setOption('keyMap', 'sublime');\n",
       "        }\n",
       "    }\n",
       ");\n"
      ],
      "text/plain": [
       "<IPython.core.display.Javascript object>"
      ]
     },
     "metadata": {},
     "output_type": "display_data"
    }
   ],
   "source": [
    "%%javascript\n",
    "require([\"codemirror/keymap/sublime\", \"notebook/js/cell\", \"base/js/namespace\"],\n",
    "    function(sublime_keymap, cell, IPython){\n",
    "        cell.Cell.options_default.cm_config.keyMap = 'sublime';\n",
    "        var cells = IPython.notebook.get_cells();\n",
    "        for(var cl=0; cl< cells.length ; cl++){\n",
    "            cells[cl].code_mirror.setOption('keyMap', 'sublime');\n",
    "        }\n",
    "    }\n",
    ");"
   ]
  },
  {
   "cell_type": "code",
   "execution_count": 22,
   "id": "0b87676e",
   "metadata": {},
   "outputs": [],
   "source": [
    "filename = \"fcc100a256.txt\"\n",
    "mask,distances = basic.find_neighbours(*basic.read_file(filename))"
   ]
  },
  {
   "cell_type": "code",
   "execution_count": 23,
   "id": "f267a0e6",
   "metadata": {},
   "outputs": [
    {
     "name": "stdout",
     "output_type": "stream",
     "text": [
      "0.02633887300000004\n",
      "0.013228440999999869\n"
     ]
    },
    {
     "data": {
      "text/plain": [
       "(-453.45018064937494, -532.480009525025)"
      ]
     },
     "execution_count": 23,
     "metadata": {},
     "output_type": "execute_result"
    }
   ],
   "source": [
    "start = time.process_time()\n",
    "LJA = interaction.lennard_jones_approx(distances)\n",
    "print(time.process_time() - start)\n",
    "\n",
    "start = time.process_time()\n",
    "LJ = interaction.lennard_jones(distances)\n",
    "print(time.process_time() - start)\n",
    "\n",
    "LJA,LJ"
   ]
  },
  {
   "cell_type": "markdown",
   "id": "4ce33f02",
   "metadata": {},
   "source": [
    "### Test zone - used for quick tests and monkey patch"
   ]
  },
  {
   "cell_type": "code",
   "execution_count": 5,
   "id": "497a2b51",
   "metadata": {},
   "outputs": [
    {
     "name": "stdout",
     "output_type": "stream",
     "text": [
      "4.896599999992812e-05\n"
     ]
    }
   ],
   "source": [
    "import time\n",
    "start = time.process_time()\n",
    "# your code here    \n",
    "print(time.process_time() - start)"
   ]
  },
  {
   "cell_type": "code",
   "execution_count": 6,
   "id": "210001f3",
   "metadata": {},
   "outputs": [],
   "source": [
    "# constant values \n",
    "rc = 4.625\n",
    "rp = 4.375\n",
    "sigma = 2.644\n",
    "epsilon = 0.345\n",
    "kb = 1/11603\n",
    "Temp = 100\n",
    "m_ag = 108*1.66e-27/16"
   ]
  },
  {
   "cell_type": "code",
   "execution_count": 31,
   "id": "ce9f26fb",
   "metadata": {},
   "outputs": [],
   "source": [
    "def lennard_jones(distances):\n",
    "    '''\n",
    "    returns total potential energy value\n",
    "    '''\n",
    "    distances[np.where(distances==0)] = np.infty\n",
    "    Epot = 4*epsilon*((sigma/(distances))**12 - (sigma/(distances))**6)\n",
    "    return 0.5*np.nansum(Epot)"
   ]
  },
  {
   "cell_type": "code",
   "execution_count": 32,
   "id": "a6add4ff",
   "metadata": {},
   "outputs": [
    {
     "data": {
      "text/plain": [
       "-532.480009525025"
      ]
     },
     "execution_count": 32,
     "metadata": {},
     "output_type": "execute_result"
    }
   ],
   "source": [
    "LJ = lennard_jones(distance)\n",
    "LJ"
   ]
  },
  {
   "cell_type": "code",
   "execution_count": 28,
   "id": "b8de61f4",
   "metadata": {},
   "outputs": [],
   "source": [
    "distances[np.where(distances==0)] = np.infty"
   ]
  },
  {
   "cell_type": "code",
   "execution_count": 29,
   "id": "13dac36b",
   "metadata": {},
   "outputs": [
    {
     "data": {
      "text/plain": [
       "(256, 256)"
      ]
     },
     "execution_count": 29,
     "metadata": {},
     "output_type": "execute_result"
    }
   ],
   "source": [
    "np.shape(distances)"
   ]
  },
  {
   "cell_type": "code",
   "execution_count": 30,
   "id": "8641e273",
   "metadata": {},
   "outputs": [
    {
     "data": {
      "text/plain": [
       "array([[        inf,  2.94184705,  2.94184705, ..., 18.37182895,\n",
       "        21.81732166, 21.81732166],\n",
       "       [ 2.94184705,         inf,  4.1604    , ..., 20.16828728,\n",
       "        24.08005593, 24.08005593],\n",
       "       [ 2.94184705,  4.1604    ,         inf, ..., 19.29098119,\n",
       "        22.21045818, 21.81732166],\n",
       "       ...,\n",
       "       [18.37182895, 20.16828728, 19.29098119, ...,         inf,\n",
       "         6.57816999,  8.3208    ],\n",
       "       [21.81732166, 24.08005593, 22.21045818, ...,  6.57816999,\n",
       "                inf,  2.94184705],\n",
       "       [21.81732166, 24.08005593, 21.81732166, ...,  8.3208    ,\n",
       "         2.94184705,         inf]])"
      ]
     },
     "execution_count": 30,
     "metadata": {},
     "output_type": "execute_result"
    }
   ],
   "source": [
    "distances"
   ]
  },
  {
   "cell_type": "code",
   "execution_count": null,
   "id": "e82ae536",
   "metadata": {},
   "outputs": [],
   "source": []
  }
 ],
 "metadata": {
  "kernelspec": {
   "display_name": "Python 3",
   "language": "python",
   "name": "python3"
  },
  "language_info": {
   "codemirror_mode": {
    "name": "ipython",
    "version": 3
   },
   "file_extension": ".py",
   "mimetype": "text/x-python",
   "name": "python",
   "nbconvert_exporter": "python",
   "pygments_lexer": "ipython3",
   "version": "3.8.8"
  }
 },
 "nbformat": 4,
 "nbformat_minor": 5
}

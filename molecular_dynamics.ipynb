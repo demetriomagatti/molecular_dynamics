{
 "cells": [
  {
   "cell_type": "code",
   "execution_count": 1,
   "id": "3a46bb9e",
   "metadata": {},
   "outputs": [],
   "source": [
    "import numpy as np\n",
    "import pandas as pd\n",
    "import matplotlib.pyplot as plt\n",
    "from tqdm.auto import tqdm\n",
    "import time\n",
    "from functions import basic\n",
    "from functions import interaction\n",
    "from functions import evolution\n",
    "import main\n",
    "%matplotlib inline"
   ]
  },
  {
   "cell_type": "code",
   "execution_count": 2,
   "id": "b3abc354",
   "metadata": {},
   "outputs": [
    {
     "data": {
      "application/javascript": [
       "require([\"codemirror/keymap/sublime\", \"notebook/js/cell\", \"base/js/namespace\"],\n",
       "    function(sublime_keymap, cell, IPython){\n",
       "        cell.Cell.options_default.cm_config.keyMap = 'sublime';\n",
       "        var cells = IPython.notebook.get_cells();\n",
       "        for(var cl=0; cl< cells.length ; cl++){\n",
       "            cells[cl].code_mirror.setOption('keyMap', 'sublime');\n",
       "        }\n",
       "    }\n",
       ");\n"
      ],
      "text/plain": [
       "<IPython.core.display.Javascript object>"
      ]
     },
     "metadata": {},
     "output_type": "display_data"
    }
   ],
   "source": [
    "%%javascript\n",
    "require([\"codemirror/keymap/sublime\", \"notebook/js/cell\", \"base/js/namespace\"],\n",
    "    function(sublime_keymap, cell, IPython){\n",
    "        cell.Cell.options_default.cm_config.keyMap = 'sublime';\n",
    "        var cells = IPython.notebook.get_cells();\n",
    "        for(var cl=0; cl< cells.length ; cl++){\n",
    "            cells[cl].code_mirror.setOption('keyMap', 'sublime');\n",
    "        }\n",
    "    }\n",
    ");"
   ]
  },
  {
   "cell_type": "code",
   "execution_count": 3,
   "id": "6acf6bcd",
   "metadata": {},
   "outputs": [],
   "source": [
    "import warnings\n",
    "warnings.filterwarnings(\"ignore\", category=RuntimeWarning) "
   ]
  },
  {
   "cell_type": "code",
   "execution_count": null,
   "id": "0b87676e",
   "metadata": {},
   "outputs": [],
   "source": [
    "# reading input file\n",
    "filename = \"fcc100a256.txt\"\n",
    "lattice = basic.read_file(filename)"
   ]
  },
  {
   "cell_type": "code",
   "execution_count": null,
   "id": "a2563122",
   "metadata": {},
   "outputs": [],
   "source": [
    "# computing ditances, finding neighbours\n",
    "\n",
    "# no PBC test\n",
    "start = time.process_time()\n",
    "for i in range(100):\n",
    "    mask,distances = basic.find_neighbours(*lattice)\n",
    "print(f'no PBC - 100 iterations; computing time: {time.process_time() - start :.2f} seconds')\n",
    "\n",
    "start = time.process_time()\n",
    "for i in range(100):\n",
    "    mask,distances = basic.find_neighbours(*lattice, PBC=True)\n",
    "print(f'PBC - 100 iterations; computing time: {time.process_time() - start :.2f} seconds')"
   ]
  },
  {
   "cell_type": "code",
   "execution_count": null,
   "id": "da0902a2",
   "metadata": {},
   "outputs": [],
   "source": [
    "# calculating potential energy\n",
    "mask,distances = basic.find_neighbours(*lattice)\n",
    "\n",
    "# approximate LJ\n",
    "start = time.process_time()\n",
    "for i in range(100):\n",
    "    LJA = interaction.lennard_jones_approx(distances)\n",
    "print(f'approximate LJ - 100 iterations; computing time: {time.process_time() - start :.2f} seconds')\n",
    "\n",
    "# true LJ\n",
    "start = time.process_time()\n",
    "for i in range(100):\n",
    "    LJ = interaction.lennard_jones(distances)\n",
    "print(f'true LJ - 100 iterations; computing time: {time.process_time() - start :.2f} seconds')\n",
    "\n",
    "print('')\n",
    "print(f'approximate LJ: {LJA:.2f}')\n",
    "print(f'true LJ: {LJ:.2f}')"
   ]
  },
  {
   "cell_type": "code",
   "execution_count": null,
   "id": "96614b73",
   "metadata": {},
   "outputs": [],
   "source": [
    "# calculating forces\n",
    "\n",
    "# approximate LJ\n",
    "start = time.process_time()\n",
    "for i in range(100):\n",
    "    FxA,FyA,FzA = interaction.calc_force_approx(*lattice,distances,PBC=True)\n",
    "print(f'approximate LJ - 100 iterations; computing time: {time.process_time() - start :.2f} seconds')\n",
    "\n",
    "# approximate LJ\n",
    "start = time.process_time()\n",
    "for i in range(100):\n",
    "    Fx,Fy,Fz = interaction.calc_force(*lattice,distances,PBC=True)\n",
    "print(f'true LJ - 100 iterations; computing time: {time.process_time() - start :.2f} seconds')\n",
    "\n",
    "print('')\n",
    "print(f'approximate LJ, force on 0-th atom: {FxA[1]:.2f},{FyA[1]:.2f},{FzA[1]:.2f}')\n",
    "print(f'true LJ, force on 0-th atom: {Fx[1]:.2f},{Fy[1]:.2f},{Fz[1]:.2f}')"
   ]
  },
  {
   "cell_type": "code",
   "execution_count": null,
   "id": "230f0eac",
   "metadata": {},
   "outputs": [],
   "source": [
    "n_atoms,sx,sy,sz,x,y,z = lattice\n",
    "\n",
    "fig,axs = plt.subplots(1,3,sharey=True,figsize=(12,4))\n",
    "\n",
    "for i in range(255):\n",
    "    axs[0].plot(x[i],FxA[i],'.')\n",
    "    axs[1].plot(y[i],FyA[i],'.')\n",
    "    axs[2].plot(z[i],FzA[i],'.')\n",
    "\n",
    "for i in range(3):\n",
    "    axs[i].grid()\n",
    "\n",
    "axs[0].set_xlabel('x')\n",
    "axs[0].set_ylabel('Fx')\n",
    "axs[1].set_xlabel('y')\n",
    "axs[1].set_ylabel('Fy')\n",
    "axs[2].set_xlabel('z')\n",
    "axs[2].set_ylabel('Fz')\n",
    "\n",
    "fig.suptitle('Force components - perfect lattice - approximate LJ - PBC')\n",
    "plt.show()"
   ]
  },
  {
   "cell_type": "code",
   "execution_count": null,
   "id": "7179ce0b",
   "metadata": {},
   "outputs": [],
   "source": [
    "fig,axs = plt.subplots(1,3,sharey=True,figsize=(12,4))\n",
    "\n",
    "for i in range(255):\n",
    "    axs[0].plot(x[i],Fx[i],'.')\n",
    "    axs[1].plot(y[i],Fy[i],'.')\n",
    "    axs[2].plot(z[i],Fz[i],'.')\n",
    "\n",
    "for i in range(3):\n",
    "    axs[i].grid()\n",
    "\n",
    "axs[0].set_xlabel('x')\n",
    "axs[0].set_ylabel('Fx')\n",
    "axs[1].set_xlabel('y')\n",
    "axs[1].set_ylabel('Fy')\n",
    "axs[2].set_xlabel('z')\n",
    "axs[2].set_ylabel('Fz')\n",
    "\n",
    "fig.suptitle('Force components - perfect lattice - true LJ - PBC')\n",
    "plt.show()"
   ]
  },
  {
   "cell_type": "code",
   "execution_count": null,
   "id": "c4d612d3",
   "metadata": {},
   "outputs": [],
   "source": [
    "# initializing speed\n",
    "m_ag = 108*1.66e-27/16\n",
    "kb = 1/11603\n",
    "T = 100\n",
    "\n",
    "start = time.process_time()\n",
    "vx,vy,vz = basic.initialize_speed(n_atoms,x,y,z,T,remove_translation=True)\n",
    "print(f'speed initialization; computing time: {time.process_time() - start :.3f} seconds\\n')\n",
    "\n",
    "v2 = vx**2 + vy**2  + vz**2\n",
    "Ekin = 0.5*m_ag*np.sum(v2)\n",
    "Tkin = 2*Ekin/(3*n_atoms*kb)  \n",
    "\n",
    "print('translation removal check:')\n",
    "print(f'    mean vx: {np.mean(vx)}')\n",
    "print(f'    mean vy: {np.mean(vy)}')\n",
    "print(f'    mean vz: {np.mean(vz)}\\n')\n",
    "print(f'Set temperature: {T:.2f}K; real temperature: {Tkin:.2f}K')"
   ]
  },
  {
   "cell_type": "markdown",
   "id": "2ca36e4d",
   "metadata": {},
   "source": [
    "### Full simulation using built-in function"
   ]
  },
  {
   "cell_type": "markdown",
   "id": "b156761d",
   "metadata": {},
   "source": [
    "#### No PBC, no approx"
   ]
  },
  {
   "cell_type": "code",
   "execution_count": null,
   "id": "e144ce05",
   "metadata": {},
   "outputs": [],
   "source": [
    "filename = \"fcc100a256.txt\"\n",
    "timelength = 50e-12    \n",
    "timestep = 1.5e-14   \n",
    "T = 50\n",
    "\n",
    "results = main.make_simulation(filename,T,timelength,timestep)\n",
    "time_array,all_x,all_y,all_z,Temp_array,energy_array = results"
   ]
  },
  {
   "cell_type": "code",
   "execution_count": null,
   "id": "489aa56f",
   "metadata": {},
   "outputs": [],
   "source": [
    "print(f'DeltaE/E: {np.std(energy_array[2000:])/np.mean(energy_array[2000:])}')"
   ]
  },
  {
   "cell_type": "code",
   "execution_count": null,
   "id": "ca55e264",
   "metadata": {},
   "outputs": [],
   "source": [
    "fig,axs = plt.subplots(1,2,figsize=(12,4))\n",
    "\n",
    "axs[0].plot(time_array*1e12,Temp_array,'.-')\n",
    "axs[0].plot(time_array[2000:]*1e12,Temp_array[2000:],'.-')\n",
    "axs[1].plot(time_array*1e12,energy_array,'.-')\n",
    "axs[1].plot(time_array[2000:]*1e12,energy_array[2000:],'.-')\n",
    "\n",
    "for ax in axs:\n",
    "    ax.set_xlabel('Time [ps]')\n",
    "\n",
    "axs[0].set_ylabel('Temperature [K]')\n",
    "axs[1].set_ylabel('Energy [eV]')\n",
    "\n",
    "fig.tight_layout()"
   ]
  },
  {
   "cell_type": "code",
   "execution_count": null,
   "id": "d6dc1c73",
   "metadata": {},
   "outputs": [],
   "source": [
    "fig,axs = plt.subplots(1,3,sharey=True,figsize=(12,4))\n",
    "\n",
    "axs[0].plot(time_array*1e12,all_x[0],'.-')\n",
    "axs[1].plot(time_array*1e12,all_y[0],'.-')\n",
    "axs[2].plot(time_array*1e12,all_z[0],'.-')\n",
    "\n",
    "for ax in axs:\n",
    "    ax.set_xlabel('Time [ps]')\n",
    "    \n",
    "axs[0].set_ylabel('x[0] [nm]')\n",
    "axs[1].set_ylabel('y[0] [nm]')\n",
    "axs[2].set_ylabel('z[0] [nm]')\n",
    "\n",
    "fig.tight_layout()"
   ]
  },
  {
   "cell_type": "markdown",
   "id": "457512e0",
   "metadata": {},
   "source": [
    "#### PBC, approx"
   ]
  },
  {
   "cell_type": "code",
   "execution_count": null,
   "id": "d5dd004d",
   "metadata": {},
   "outputs": [],
   "source": [
    "filename = \"fcc100a256.txt\"\n",
    "timelength = 40e-12    \n",
    "timestep = 1.5e-14   \n",
    "T = 100\n",
    "\n",
    "results = main.make_simulation(filename,T,timelength,timestep,PBC=True,approx=True)\n",
    "time_array,all_x,all_y,all_z,Temp_array,energy_array = results"
   ]
  },
  {
   "cell_type": "code",
   "execution_count": null,
   "id": "94fe7288",
   "metadata": {},
   "outputs": [],
   "source": [
    "print(f'DeltaE/E: {np.std(energy_array[400:])/np.mean(energy_array[400:])}')"
   ]
  },
  {
   "cell_type": "code",
   "execution_count": null,
   "id": "57b80ba3",
   "metadata": {},
   "outputs": [],
   "source": [
    "fig,axs = plt.subplots(1,2,figsize=(12,4))\n",
    "\n",
    "axs[0].plot(time_array*1e12,Temp_array,'.-')\n",
    "axs[0].plot(time_array[400:]*1e12,Temp_array[400:],'.-')\n",
    "axs[1].plot(time_array*1e12,energy_array,'.-')\n",
    "axs[1].plot(time_array[400:]*1e12,energy_array[400:],'.-')\n",
    "\n",
    "for ax in axs:\n",
    "    ax.set_xlabel('Time [ps]')\n",
    "\n",
    "axs[0].set_ylabel('Temperature [K]')\n",
    "axs[1].set_ylabel('Energy [eV]')\n",
    "\n",
    "fig.tight_layout()"
   ]
  },
  {
   "cell_type": "code",
   "execution_count": null,
   "id": "4ed61371",
   "metadata": {},
   "outputs": [],
   "source": [
    "fig,axs = plt.subplots(1,3,sharey=True,figsize=(12,4))\n",
    "\n",
    "axs[0].plot(time_array*1e12,all_x[0],'.-')\n",
    "axs[1].plot(time_array*1e12,all_y[0],'.-')\n",
    "axs[2].plot(time_array*1e12,all_z[0],'.-')\n",
    "\n",
    "for ax in axs:\n",
    "    ax.set_xlabel('Time [ps]')\n",
    "    \n",
    "axs[0].set_ylabel('x[0] [nm]')\n",
    "axs[1].set_ylabel('y[0] [nm]')\n",
    "axs[2].set_ylabel('z[0] [nm]')\n",
    "\n",
    "fig.tight_layout()"
   ]
  },
  {
   "cell_type": "markdown",
   "id": "531e04bd",
   "metadata": {},
   "source": [
    "### Full simulation with built-in functions"
   ]
  },
  {
   "cell_type": "code",
   "execution_count": null,
   "id": "7605598e",
   "metadata": {
    "scrolled": true
   },
   "outputs": [],
   "source": [
    "filename = \"fcc100a256.txt\"\n",
    "timelength = 12e-12    \n",
    "timestep = 1.5e-14   \n",
    "T = 100\n",
    "\n",
    "lattice = basic.read_file(filename)\n",
    "results = main.make_simulation(filename,T,timelength,timestep,PBC=True,approx=True)\n",
    "time_array,all_x,all_y,all_z,Temp_array,energy_array = results"
   ]
  },
  {
   "cell_type": "code",
   "execution_count": null,
   "id": "a81081a3",
   "metadata": {},
   "outputs": [],
   "source": [
    "dump_time = 5e-12\n",
    "df50 = main.build_results_df(T/2,lattice,results,dump_time)"
   ]
  },
  {
   "cell_type": "code",
   "execution_count": null,
   "id": "1421fb2b",
   "metadata": {},
   "outputs": [],
   "source": [
    "df50.head()"
   ]
  },
  {
   "cell_type": "code",
   "execution_count": null,
   "id": "0eb90b7a",
   "metadata": {},
   "outputs": [],
   "source": [
    "fig,axs = plt.subplots(1,2,figsize=(12,4))\n",
    "\n",
    "for ix,(z0,z0_group) in enumerate(df50.groupby('z0')):\n",
    "    axs[0].plot(z0_group['z0']-df50['z0'].mean(),z0_group['z_mean']-z0_group['z0'],'.')\n",
    "    axs[1].plot(z0_group['z0']-df50['z0'].mean(),z0_group['z_std'],'.')\n",
    "    \n",
    "for ax in axs:\n",
    "    ax.set_xlabel('z-distance from mass center [A°]')\n",
    "axs[0].set_ylabel('displacement from starting position [A°]')\n",
    "axs[0].set_ylabel('oscillation amplitude [A°]')\n",
    "fig.tight_layout()"
   ]
  },
  {
   "cell_type": "code",
   "execution_count": null,
   "id": "d574c6f5",
   "metadata": {},
   "outputs": [],
   "source": [
    "fig,axs = plt.subplots(1,2,figsize=(12,4))\n",
    "\n",
    "for ix,(z0,z0_group) in enumerate(df50.groupby('z0')):\n",
    "    axs[0].errorbar(z0_group['z0'].mean()-df50['z0'].mean(),z0_group['z_mean'].mean()-z0_group['z0'].mean(),\n",
    "                    yerr=z0_group['z_mean'].std(),fmt='.-',capsize=3)\n",
    "    axs[1].errorbar(z0_group['z0'].mean()-df50['z0'].mean(),z0_group['z_std'].mean(),\n",
    "                    yerr=z0_group['z_std'].std(),fmt='o-',capsize=3)\n",
    "    \n",
    "for ax in axs:\n",
    "    ax.set_xlabel('z-distance from mass center [A°]')\n",
    "axs[0].set_ylabel('displacement from starting position [A°]')\n",
    "axs[1].set_ylabel('oscillation amplitude [A°]')\n",
    "fig.tight_layout()"
   ]
  },
  {
   "cell_type": "markdown",
   "id": "384dea8a",
   "metadata": {},
   "source": [
    "### More simulations in a row, saving results"
   ]
  },
  {
   "cell_type": "code",
   "execution_count": 8,
   "id": "13e84764",
   "metadata": {},
   "outputs": [],
   "source": [
    "import json\n",
    "configs = pd.read_json('configs.json')"
   ]
  },
  {
   "cell_type": "code",
   "execution_count": 9,
   "id": "9b2b770b",
   "metadata": {},
   "outputs": [
    {
     "name": "stdout",
     "output_type": "stream",
     "text": [
      "                                                                                         simulation_list\n",
      "0                 {'temperature': 100, 'timestep': 1.5e-14, 'total_time': 2e-11, 'rejected_time': 8e-12}\n",
      "1                   {'temperature': 200, 'timestep': 1e-14, 'total_time': 2e-11, 'rejected_time': 8e-12}\n",
      "2                   {'temperature': 400, 'timestep': 5e-15, 'total_time': 2e-11, 'rejected_time': 8e-12}\n",
      "3  {'temperature': 800, 'timestep': 2.5000000000000004e-15, 'total_time': 2e-11, 'rejected_time': 8e-12}\n"
     ]
    }
   ],
   "source": [
    "print(configs.to_string())"
   ]
  },
  {
   "cell_type": "code",
   "execution_count": null,
   "id": "8747f657",
   "metadata": {},
   "outputs": [
    {
     "name": "stdout",
     "output_type": "stream",
     "text": [
      "Translation removal check:\n",
      "    mean vx: 3.814697265625e-05\n",
      "    mean vy: -4.57763671875e-05\n",
      "    mean vz: 0.00022125244140625\n",
      "\n",
      "Set temperature: 100.00K; real temperature: 100.00K \n",
      "\n"
     ]
    },
    {
     "data": {
      "application/vnd.jupyter.widget-view+json": {
       "model_id": "e5086a88115a463bb08512fdef0b9b25",
       "version_major": 2,
       "version_minor": 0
      },
      "text/plain": [
       "  0%|          | 0/1333 [00:00<?, ?it/s]"
      ]
     },
     "metadata": {},
     "output_type": "display_data"
    },
    {
     "name": "stdout",
     "output_type": "stream",
     "text": [
      "Translation removal check:\n",
      "    mean vx: 6.866455078125e-05\n",
      "    mean vy: 7.62939453125e-06\n",
      "    mean vz: -0.0003662109375\n",
      "\n",
      "Set temperature: 200.00K; real temperature: 200.00K \n",
      "\n"
     ]
    },
    {
     "data": {
      "application/vnd.jupyter.widget-view+json": {
       "model_id": "e9a64d67e5da4e17a060270dce2846db",
       "version_major": 2,
       "version_minor": 0
      },
      "text/plain": [
       "  0%|          | 0/1999 [00:00<?, ?it/s]"
      ]
     },
     "metadata": {},
     "output_type": "display_data"
    },
    {
     "name": "stdout",
     "output_type": "stream",
     "text": [
      "Translation removal check:\n",
      "    mean vx: -0.0001220703125\n",
      "    mean vy: 0.00020599365234375\n",
      "    mean vz: -0.0004730224609375\n",
      "\n",
      "Set temperature: 400.00K; real temperature: 400.00K \n",
      "\n"
     ]
    },
    {
     "data": {
      "application/vnd.jupyter.widget-view+json": {
       "model_id": "f06c1aac95c646a3bdae0628d329d49d",
       "version_major": 2,
       "version_minor": 0
      },
      "text/plain": [
       "  0%|          | 0/3999 [00:00<?, ?it/s]"
      ]
     },
     "metadata": {},
     "output_type": "display_data"
    },
    {
     "name": "stdout",
     "output_type": "stream",
     "text": [
      "Translation removal check:\n",
      "    mean vx: -3.0517578125e-05\n",
      "    mean vy: -0.0001354217529296875\n",
      "    mean vz: -5.340576171875e-05\n",
      "\n",
      "Set temperature: 800.00K; real temperature: 800.00K \n",
      "\n"
     ]
    },
    {
     "data": {
      "application/vnd.jupyter.widget-view+json": {
       "model_id": "cf2e9e39afd044d5b6e7ff684af2075b",
       "version_major": 2,
       "version_minor": 0
      },
      "text/plain": [
       "  0%|          | 0/7999 [00:00<?, ?it/s]"
      ]
     },
     "metadata": {},
     "output_type": "display_data"
    }
   ],
   "source": [
    "filename = \"fcc100a256.txt\"\n",
    "\n",
    "for config in configs.simulation_list:\n",
    "    temperature = config['temperature']\n",
    "    timestep = config['timestep']\n",
    "    total_time = config['total_time']\n",
    "    rejected_time = config['rejected_time']\n",
    "    lattice = basic.read_file(filename)\n",
    "    results = main.make_simulation(filename,temperature,total_time,timestep,PBC=True,approx=True)\n",
    "    df = main.build_results_df(temperature,lattice,results,rejected_time)\n",
    "    df.to_excel(f'results/results_T{temperature}.xlsx')"
   ]
  },
  {
   "cell_type": "code",
   "execution_count": null,
   "id": "064c0295",
   "metadata": {},
   "outputs": [],
   "source": []
  },
  {
   "cell_type": "code",
   "execution_count": null,
   "id": "8246ed48",
   "metadata": {},
   "outputs": [],
   "source": []
  },
  {
   "cell_type": "code",
   "execution_count": null,
   "id": "7b3044a3",
   "metadata": {},
   "outputs": [],
   "source": []
  },
  {
   "cell_type": "markdown",
   "id": "ebc8c0d7",
   "metadata": {},
   "source": [
    "### Test zone - used for quick tests and monkey patch"
   ]
  },
  {
   "cell_type": "code",
   "execution_count": null,
   "id": "739a54d5",
   "metadata": {},
   "outputs": [],
   "source": []
  }
 ],
 "metadata": {
  "kernelspec": {
   "display_name": "Python 3",
   "language": "python",
   "name": "python3"
  },
  "language_info": {
   "codemirror_mode": {
    "name": "ipython",
    "version": 3
   },
   "file_extension": ".py",
   "mimetype": "text/x-python",
   "name": "python",
   "nbconvert_exporter": "python",
   "pygments_lexer": "ipython3",
   "version": "3.8.8"
  }
 },
 "nbformat": 4,
 "nbformat_minor": 5
}

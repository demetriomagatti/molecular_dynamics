{
 "cells": [
  {
   "cell_type": "code",
   "execution_count": 1,
   "id": "3a46bb9e",
   "metadata": {},
   "outputs": [],
   "source": [
    "import numpy as np\n",
    "import pandas as pd\n",
    "from tqdm.auto import tqdm\n",
    "from functions import basic"
   ]
  },
  {
   "cell_type": "code",
   "execution_count": 4,
   "id": "053cc746",
   "metadata": {},
   "outputs": [
    {
     "data": {
      "application/javascript": [
       "require([\"codemirror/keymap/sublime\", \"notebook/js/cell\", \"base/js/namespace\"],\n",
       "    function(sublime_keymap, cell, IPython){\n",
       "        cell.Cell.options_default.cm_config.keyMap = 'sublime';\n",
       "        var cells = IPython.notebook.get_cells();\n",
       "        for(var cl=0; cl< cells.length ; cl++){\n",
       "            cells[cl].code_mirror.setOption('keyMap', 'sublime');\n",
       "        }\n",
       "    }\n",
       ");\n"
      ],
      "text/plain": [
       "<IPython.core.display.Javascript object>"
      ]
     },
     "metadata": {},
     "output_type": "display_data"
    }
   ],
   "source": [
    "%%javascript\n",
    "require([\"codemirror/keymap/sublime\", \"notebook/js/cell\", \"base/js/namespace\"],\n",
    "    function(sublime_keymap, cell, IPython){\n",
    "        cell.Cell.options_default.cm_config.keyMap = 'sublime';\n",
    "        var cells = IPython.notebook.get_cells();\n",
    "        for(var cl=0; cl< cells.length ; cl++){\n",
    "            cells[cl].code_mirror.setOption('keyMap', 'sublime');\n",
    "        }\n",
    "    }\n",
    ");"
   ]
  },
  {
   "cell_type": "code",
   "execution_count": 5,
   "id": "0b87676e",
   "metadata": {},
   "outputs": [
    {
     "data": {
      "text/html": [
       "<div>\n",
       "<style scoped>\n",
       "    .dataframe tbody tr th:only-of-type {\n",
       "        vertical-align: middle;\n",
       "    }\n",
       "\n",
       "    .dataframe tbody tr th {\n",
       "        vertical-align: top;\n",
       "    }\n",
       "\n",
       "    .dataframe thead th {\n",
       "        text-align: right;\n",
       "    }\n",
       "</style>\n",
       "<table border=\"1\" class=\"dataframe\">\n",
       "  <thead>\n",
       "    <tr style=\"text-align: right;\">\n",
       "      <th></th>\n",
       "      <th>x</th>\n",
       "      <th>y</th>\n",
       "      <th>z</th>\n",
       "    </tr>\n",
       "  </thead>\n",
       "  <tbody>\n",
       "    <tr>\n",
       "      <th>0</th>\n",
       "      <td>2.0802</td>\n",
       "      <td>2.0802</td>\n",
       "      <td>0.0</td>\n",
       "    </tr>\n",
       "    <tr>\n",
       "      <th>1</th>\n",
       "      <td>0.0000</td>\n",
       "      <td>0.0000</td>\n",
       "      <td>0.0</td>\n",
       "    </tr>\n",
       "    <tr>\n",
       "      <th>2</th>\n",
       "      <td>0.0000</td>\n",
       "      <td>4.1604</td>\n",
       "      <td>0.0</td>\n",
       "    </tr>\n",
       "    <tr>\n",
       "      <th>3</th>\n",
       "      <td>2.0802</td>\n",
       "      <td>6.2406</td>\n",
       "      <td>0.0</td>\n",
       "    </tr>\n",
       "    <tr>\n",
       "      <th>4</th>\n",
       "      <td>0.0000</td>\n",
       "      <td>8.3208</td>\n",
       "      <td>0.0</td>\n",
       "    </tr>\n",
       "  </tbody>\n",
       "</table>\n",
       "</div>"
      ],
      "text/plain": [
       "        x       y    z\n",
       "0  2.0802  2.0802  0.0\n",
       "1  0.0000  0.0000  0.0\n",
       "2  0.0000  4.1604  0.0\n",
       "3  2.0802  6.2406  0.0\n",
       "4  0.0000  8.3208  0.0"
      ]
     },
     "execution_count": 5,
     "metadata": {},
     "output_type": "execute_result"
    }
   ],
   "source": [
    "# Reading initial positions file and saving positions into a dataframe\n",
    "filename = \"fcc100a256.txt\"\n",
    "atoms_position = basic.read_file(filename)\n",
    "atoms_position.head()"
   ]
  },
  {
   "cell_type": "markdown",
   "id": "4ce33f02",
   "metadata": {},
   "source": [
    "### Test zone - used for quick tests and monkey patch"
   ]
  },
  {
   "cell_type": "code",
   "execution_count": 66,
   "id": "0bf8d125",
   "metadata": {},
   "outputs": [],
   "source": [
    "import time"
   ]
  },
  {
   "cell_type": "code",
   "execution_count": 65,
   "id": "93b28806",
   "metadata": {},
   "outputs": [],
   "source": [
    "rc = 4.625\n",
    "rp = 4.375"
   ]
  },
  {
   "cell_type": "code",
   "execution_count": 68,
   "id": "0299a68e",
   "metadata": {
    "scrolled": true
   },
   "outputs": [
    {
     "data": {
      "application/vnd.jupyter.widget-view+json": {
       "model_id": "ba057a77cfc04dcab0a2ad48b23132c6",
       "version_major": 2,
       "version_minor": 0
      },
      "text/plain": [
       "0it [00:00, ?it/s]"
      ]
     },
     "metadata": {},
     "output_type": "display_data"
    },
    {
     "name": "stdout",
     "output_type": "stream",
     "text": [
      "0.11216240699999958\n"
     ]
    }
   ],
   "source": [
    "# Reading initial positions file and saving positions into a dataframe\n",
    "filename = \"fcc100a256.txt\"\n",
    "atoms_position = basic.read_file(filename)\n",
    "atoms_position.head()\n",
    "\n",
    "\n",
    "def find_neighbours(atoms_position,rc):\n",
    "    neighbours = []\n",
    "    for index,row in tqdm(atoms_position.iterrows()):\n",
    "        this_neighbours = []\n",
    "        for index2,row2 in atoms_position.iterrows():\n",
    "            if (index != index2) & (np.sqrt(np.sum((np.abs(row-row2)**2)))<rc):\n",
    "                this_neighbours.append(index2)\n",
    "        neighbours.append(this_neighbours)\n",
    "    return neighbours\n",
    "\n",
    "start = time.process_time()\n",
    "neighbours = find_neighbours(atoms_position.head(10),rc)\n",
    "print(time.process_time() - start)\n",
    "#atoms_position['neighbours'] = neighbours\n",
    "#atoms_position.head()"
   ]
  },
  {
   "cell_type": "code",
   "execution_count": 70,
   "id": "c5799e7d",
   "metadata": {
    "scrolled": true
   },
   "outputs": [
    {
     "data": {
      "application/vnd.jupyter.widget-view+json": {
       "model_id": "1f4b68d4f82841d78791a7ac9e3b624f",
       "version_major": 2,
       "version_minor": 0
      },
      "text/plain": [
       "0it [00:00, ?it/s]"
      ]
     },
     "metadata": {},
     "output_type": "display_data"
    },
    {
     "name": "stdout",
     "output_type": "stream",
     "text": [
      "0.779186885999998\n"
     ]
    }
   ],
   "source": [
    "# Reading initial positions file and saving positions into a dataframe\n",
    "filename = \"fcc100a256.txt\"\n",
    "atoms_position = basic.read_file(filename)\n",
    "atoms_position.head()\n",
    "\n",
    "\n",
    "def find_neighbours(atoms_position,rc):\n",
    "    neighbours = []\n",
    "    for ix,row in tqdm(enumerate(atoms_position.to_numpy())):\n",
    "        this_neighbours = []\n",
    "        for ix2,row2 in enumerate(atoms_position.to_numpy()):\n",
    "            if (ix != ix2) & (np.sqrt(np.sum((np.abs(row-row2)**2)))<rc):\n",
    "                this_neighbours.append(ix2)\n",
    "        neighbours.append(this_neighbours)\n",
    "    return neighbours\n",
    "\n",
    "start = time.process_time()\n",
    "neighbours = find_neighbours(atoms_position,rc)\n",
    "print(time.process_time() - start)\n",
    "#atoms_position['neighbours'] = neighbours\n",
    "#print(time.process_time() - start)\n",
    "#atoms_position.head()"
   ]
  },
  {
   "cell_type": "markdown",
   "id": "26df3339",
   "metadata": {},
   "source": [
    "### comparison with old version"
   ]
  },
  {
   "cell_type": "code",
   "execution_count": 72,
   "id": "62f4b683",
   "metadata": {},
   "outputs": [],
   "source": [
    "def read_file(filename):\n",
    "    x,y,z = np.genfromtxt(filename, unpack=True)\n",
    "    sx = x[0]\n",
    "    sy = y[0]\n",
    "    sz = z[0]\n",
    "    x = x[1:]\n",
    "    y = y[1:]\n",
    "    z = z[1:]\n",
    "    return sx,sy,sz,x,y,z\n",
    "    \n",
    "\n",
    "def find_neighbours(x,y,z,sx,sy,sz,nat):\n",
    "    fake_x = np.zeros(nat)\n",
    "    fake_y = np.zeros(nat)\n",
    "    fake_z = np.zeros(nat)\n",
    "    coord_x =  np.column_stack((x,fake_y,fake_z))\n",
    "    coord_y =  np.column_stack((fake_x,y,fake_z))\n",
    "    coord_z =  np.column_stack((fake_x,fake_y,z))\n",
    "    x_distances = np.sum(coord_x[:,None,:] - coord_x, axis=-1)\n",
    "    y_distances = np.sum(coord_y[:,None,:] - coord_y, axis=-1)        \n",
    "    z_distances = np.sum(coord_z[:,None,:] - coord_z, axis=-1)    \n",
    "    #starting PBC on x and y coordinates\n",
    "    #to remove PBC just comment the following lines and the similar ones in calc_force\n",
    "    mask_x_plus = x_distances>(0.5*sx)\n",
    "    mask_y_plus = y_distances>(0.5*sy)\n",
    "    mask_x_minus = x_distances<(-0.5*sx)\n",
    "    mask_y_minus = y_distances<(-0.5*sy)\n",
    "    x_distances = x_distances - sx*mask_x_plus + sx*mask_x_minus\n",
    "    y_distances = y_distances - sy*mask_y_plus + sy*mask_y_minus\n",
    "    #ending PBC\n",
    "    neighbours_distances = np.sqrt((x_distances**2 + y_distances**2 + z_distances**2))\n",
    "    mask1 = neighbours_distances<rc\n",
    "    mask2 = neighbours_distances>0\n",
    "    mask = mask1 * mask2\n",
    "    return mask,neighbours_distances"
   ]
  },
  {
   "cell_type": "code",
   "execution_count": 81,
   "id": "497a2b51",
   "metadata": {},
   "outputs": [
    {
     "name": "stdout",
     "output_type": "stream",
     "text": [
      "0.011283995000006541\n"
     ]
    }
   ],
   "source": [
    "import time\n",
    "start = time.process_time()\n",
    "# your code here    \n",
    "\n",
    "nat = 256\n",
    "sx,sy,sz,x,y,z = read_file('fcc100a256.txt')\n",
    "mask,neighbours_distances = find_neighbours(x,y,z,sx,sy,sz,nat)\n",
    "print(time.process_time() - start)"
   ]
  },
  {
   "cell_type": "code",
   "execution_count": 105,
   "id": "132cfbb9",
   "metadata": {},
   "outputs": [],
   "source": [
    "def read_file(filename):\n",
    "    x,y,z = np.genfromtxt(filename, unpack=True)\n",
    "    sx = x[0]\n",
    "    sy = y[0]\n",
    "    sz = z[0]\n",
    "    x = x[1:]\n",
    "    y = y[1:]\n",
    "    z = z[1:]\n",
    "    n_atoms = len(x)\n",
    "    return n_atoms,sx,sy,sz,x,y,z\n",
    "    \n",
    "\n",
    "def find_neighbours(nat,sx,sy,sz,x,y,z,PBC=False):\n",
    "    fake_x = np.zeros(nat)\n",
    "    fake_y = np.zeros(nat)\n",
    "    fake_z = np.zeros(nat)\n",
    "    coord_x =  np.column_stack((x,fake_y,fake_z))\n",
    "    coord_y =  np.column_stack((fake_x,y,fake_z))\n",
    "    coord_z =  np.column_stack((fake_x,fake_y,z))\n",
    "    x_distances = np.sum(coord_x[:,None,:] - coord_x, axis=-1)\n",
    "    y_distances = np.sum(coord_y[:,None,:] - coord_y, axis=-1)        \n",
    "    z_distances = np.sum(coord_z[:,None,:] - coord_z, axis=-1)    \n",
    "    if PBC:\n",
    "        mask_x_plus = x_distances>(0.5*sx)\n",
    "        mask_y_plus = y_distances>(0.5*sy)\n",
    "        mask_x_minus = x_distances<(-0.5*sx)\n",
    "        mask_y_minus = y_distances<(-0.5*sy)\n",
    "        x_distances = x_distances - sx*mask_x_plus + sx*mask_x_minus\n",
    "        y_distances = y_distances - sy*mask_y_plus + sy*mask_y_minus\n",
    "    neighbours_distances = np.sqrt((x_distances**2 + y_distances**2 + z_distances**2))\n",
    "    mask1 = neighbours_distances<rc\n",
    "    mask2 = neighbours_distances>0\n",
    "    mask = mask1 * mask2\n",
    "    return mask,neighbours_distances"
   ]
  },
  {
   "cell_type": "code",
   "execution_count": 106,
   "id": "76c3e551",
   "metadata": {},
   "outputs": [
    {
     "name": "stdout",
     "output_type": "stream",
     "text": [
      "0.022830318000004013\n"
     ]
    }
   ],
   "source": [
    "start = time.process_time()\n",
    "mask,neighbours_distances = find_neighbours(*read_file('fcc100a256.txt'),PBC=False)\n",
    "print(time.process_time() - start)"
   ]
  },
  {
   "cell_type": "code",
   "execution_count": null,
   "id": "8fb3fa62",
   "metadata": {},
   "outputs": [],
   "source": []
  }
 ],
 "metadata": {
  "kernelspec": {
   "display_name": "Python 3",
   "language": "python",
   "name": "python3"
  },
  "language_info": {
   "codemirror_mode": {
    "name": "ipython",
    "version": 3
   },
   "file_extension": ".py",
   "mimetype": "text/x-python",
   "name": "python",
   "nbconvert_exporter": "python",
   "pygments_lexer": "ipython3",
   "version": "3.8.8"
  }
 },
 "nbformat": 4,
 "nbformat_minor": 5
}
